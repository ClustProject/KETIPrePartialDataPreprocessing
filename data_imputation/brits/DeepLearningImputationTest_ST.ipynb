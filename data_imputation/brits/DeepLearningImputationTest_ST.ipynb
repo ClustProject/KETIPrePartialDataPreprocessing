{
 "cells": [
  {
   "cell_type": "code",
   "execution_count": 2,
   "metadata": {
    "scrolled": false
   },
   "outputs": [
    {
     "name": "stdout",
     "output_type": "stream",
     "text": [
      "ICL1L2000234\n",
      "data Length after removeDuplication: 25\n",
      "data Length after make_static_frequency: 25\n",
      "NaN Ratio: in_ciai 16.0 %\n",
      "linear\n",
      "NaN Ratio: in_cici 16.0 %\n",
      "linear\n",
      "NaN Ratio: in_cici_co2 28.0 %\n",
      "linear\n",
      "NaN Ratio: in_cici_humi 16.0 %\n",
      "linear\n",
      "NaN Ratio: in_cici_noise 12.0 %\n",
      "linear\n",
      "NaN Ratio: in_cici_pm10 28.0 %\n",
      "linear\n",
      "NaN Ratio: in_cici_pm25 0.0 %\n",
      "linear\n",
      "NaN Ratio: in_cici_temp 12.0 %\n",
      "linear\n",
      "NaN Ratio: in_cici_voc 12.0 %\n",
      "linear\n",
      "NaN Ratio: in_co2 4.0 %\n",
      "linear\n",
      "NaN Ratio: in_humi 4.0 %\n",
      "linear\n",
      "NaN Ratio: in_noise 4.0 %\n",
      "linear\n",
      "NaN Ratio: in_pm01 8.0 %\n",
      "linear\n",
      "NaN Ratio: in_pm01_raw 8.0 %\n",
      "linear\n",
      "NaN Ratio: in_pm10 8.0 %\n",
      "linear\n",
      "NaN Ratio: in_pm10_raw 8.0 %\n",
      "linear\n",
      "NaN Ratio: in_pm25 0.0 %\n",
      "linear\n",
      "NaN Ratio: in_pm25_raw 0.0 %\n",
      "linear\n",
      "NaN Ratio: in_temp 4.0 %\n",
      "linear\n",
      "NaN Ratio: in_voc 4.0 %\n",
      "linear\n"
     ]
    }
   ],
   "source": [
    "import sys\n",
    "import os\n",
    "sys.path.append(\"../\")\n",
    "sys.path.append(\"../..\")\n",
    "sys.path.append(\"../../..\")\n",
    "\n",
    "from KETIPrePartialDataPreprocessing import main\n",
    "\n",
    "inputType ='influx' # or file\n",
    "refine_param = {'removeDuplication':True, 'staticFrequency':True}\n",
    "outlier_param= {'certainOutlierToNaN':True, 'uncertainOutlierToNaN':True, 'data_type':'air'}\n",
    "imputation_param ={\n",
    "\"imputation_method\":[{\"min\":0,\"max\":2,\"method\":\"linear\"}],\"totalNanLimit\":90}\n",
    "\n",
    "# mean, median X\n",
    "# ffill~polynomial_interpolate=> 각 구간마다 딱 고만큼만 Fill\n",
    "\n",
    "input_data = main.inputControl(inputType)\n",
    "from KETIPrePartialDataPreprocessing import data_preprocessing\n",
    "import numpy as np\n",
    "input_test_data = input_data.replace(4.0, np.nan)\n",
    "output = data_preprocessing.ByAllMethod(input_test_data[:25], refine_param, outlier_param, imputation_param)"
   ]
  },
  {
   "cell_type": "code",
   "execution_count": null,
   "metadata": {},
   "outputs": [],
   "source": [
    "#input\n",
    "dataset = input_test_data[:1000][['in_temp']]\n",
    "from data_imputation.brits import BRITSimputation\n",
    "epochs = 20\n",
    "model = BRITSimputation(df= dataset, column = 'in_temp', use_gpu=False)\n",
    "model_name = '/a/b/in_temp.h5'\n",
    "\n",
    "#inference\n",
    "root = '/root'\n",
    "model_name =os.join(root, db_name, ms_name, column_name+'.h5')\n",
    "brits_model = model_loat(model_namae)\n",
    "out_data = birts_model.inference(dataset)\n",
    "\n",
    "\n",
    "\n",
    "\n",
    "\n",
    "\n",
    "model.imputation(epochs)\n",
    "\n",
    "model.plot()\n",
    "result_df = model.df\n",
    "\n",
    "#결과값의 numpy array\n",
    "result_numpy = model.result\n",
    "#결과를 csv로 저장\n",
    "result_df.to_csv(\"result.csv\")"
   ]
  },
  {
   "cell_type": "code",
   "execution_count": null,
   "metadata": {},
   "outputs": [],
   "source": []
  }
 ],
 "metadata": {
  "interpreter": {
   "hash": "1796aacadfdf1b8ce3fabca5224c2ed4902f3cf33c376ce9a04415899520095e"
  },
  "kernelspec": {
   "display_name": "Python 3",
   "language": "python",
   "name": "python3"
  },
  "toc": {
   "base_numbering": 1,
   "nav_menu": {},
   "number_sections": true,
   "sideBar": true,
   "skip_h1_title": false,
   "title_cell": "Table of Contents",
   "title_sidebar": "Contents",
   "toc_cell": false,
   "toc_position": {},
   "toc_section_display": true,
   "toc_window_display": false
  },
  "varInspector": {
   "cols": {
    "lenName": 16,
    "lenType": 16,
    "lenVar": 40
   },
   "kernels_config": {
    "python": {
     "delete_cmd_postfix": "",
     "delete_cmd_prefix": "del ",
     "library": "var_list.py",
     "varRefreshCmd": "print(var_dic_list())"
    },
    "r": {
     "delete_cmd_postfix": ") ",
     "delete_cmd_prefix": "rm(",
     "library": "var_list.r",
     "varRefreshCmd": "cat(var_dic_list()) "
    }
   },
   "types_to_exclude": [
    "module",
    "function",
    "builtin_function_or_method",
    "instance",
    "_Feature"
   ],
   "window_display": false
  }
 },
 "nbformat": 4,
 "nbformat_minor": 4
}
