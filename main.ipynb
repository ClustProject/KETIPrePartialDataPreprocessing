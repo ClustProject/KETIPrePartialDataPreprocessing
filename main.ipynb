{
 "cells": [
  {
   "cell_type": "code",
   "execution_count": 1,
   "metadata": {
    "scrolled": false
   },
   "outputs": [
    {
     "name": "stdout",
     "output_type": "stream",
     "text": [
      "/Users/bunnyjw/Git/KETIPrePartialDataPreprocessing/data_imputation/DL/brits/model/air_indoor_경로당/ICL1L2000234/in_temp\n"
     ]
    }
   ],
   "source": [
    "import sys\n",
    "import os\n",
    "sys.path.append(\"../\")\n",
    "sys.path.append(\"../..\")\n",
    "\n",
    "from KETIPrePartialDataPreprocessing import main\n",
    "\n",
    "inputType ='influx' # or file\n",
    "refine_param = {\n",
    "    \"removeDuplication\":{\"flag\":True},\n",
    "    \"staticFrequency\":{\"flag\":True}\n",
    "}\n",
    "outlier_param  = {\n",
    "    \"certainOutlierToNaN\":{\"flag\":True},\n",
    "    \"uncertainOutlierToNaN\":{\n",
    "        \"flag\":True,\n",
    "        \"param\":{\"neighbor\":[0.3,0.3]}\n",
    "    },\n",
    "    \"data_type\":\"air\"\n",
    "}\n",
    "column_name ='in_temp'\n",
    "model_folder = os.path.join(os.getcwd(),'data_imputation','DL','brits', 'model', 'air_indoor_경로당', 'ICL1L2000234',column_name)\n",
    "print(model_folder)\n",
    "imputation_param = {\n",
    "    \"serialImputation\":{\n",
    "        \"flag\":True,\n",
    "        \"imputation_method\":[{\"min\":0,\"max\":2,\"method\":\"linear\", \"parameter\":{}}, \n",
    "                             {\"min\":3,\"max\":6,\"method\":\"brits\", \"parameter\":{\"model_address\":model_folder}}],\n",
    "        \"totalNanLimit\":90\n",
    "    }\n",
    "}\n",
    "process_param = {'refine_param':refine_param, 'outlier_param':outlier_param, 'imputation_param':imputation_param}"
   ]
  },
  {
   "cell_type": "code",
   "execution_count": 2,
   "metadata": {},
   "outputs": [
    {
     "data": {
      "text/plain": [
       "{'serialImputation': {'flag': True,\n",
       "  'imputation_method': [{'min': 0,\n",
       "    'max': 2,\n",
       "    'method': 'linear',\n",
       "    'parameter': {}},\n",
       "   {'min': 3,\n",
       "    'max': 6,\n",
       "    'method': 'brits',\n",
       "    'parameter': {'model_address': '/Users/bunnyjw/Git/KETIPrePartialDataPreprocessing/data_imputation/DL/brits/model/air_indoor_경로당/ICL1L2000234/in_temp'}}],\n",
       "  'totalNanLimit': 90}}"
      ]
     },
     "execution_count": 2,
     "metadata": {},
     "output_type": "execute_result"
    }
   ],
   "source": [
    "imputation_param"
   ]
  },
  {
   "cell_type": "code",
   "execution_count": 3,
   "metadata": {},
   "outputs": [],
   "source": [
    "# Declare your own data\n",
    "input_data = main.inputControl(inputType)\n",
    "# Make noise\n",
    "import numpy as np\n",
    "input_test_data = input_data.replace(4.0, np.nan)"
   ]
  },
  {
   "cell_type": "code",
   "execution_count": null,
   "metadata": {
    "scrolled": false
   },
   "outputs": [
    {
     "name": "stdout",
     "output_type": "stream",
     "text": [
      "in_temp\n",
      "getDataWithCertainNaN\n",
      "getDataWithUncertainNaN\n",
      "5.892187969924812 5.892187969924812\n",
      "time\n",
      "2021-02-04 09:14:00+00:00    NaN\n",
      "2021-02-04 09:15:00+00:00    NaN\n",
      "2021-02-04 09:16:00+00:00    1.3\n",
      "2021-02-04 09:17:00+00:00    1.8\n",
      "2021-02-04 09:18:00+00:00    1.4\n",
      "                            ... \n",
      "2021-02-06 05:32:00+00:00    NaN\n",
      "2021-02-06 05:33:00+00:00    0.0\n",
      "2021-02-06 05:34:00+00:00    0.0\n",
      "2021-02-06 05:35:00+00:00    NaN\n",
      "2021-02-06 05:36:00+00:00    NaN\n",
      "Freq: T, Name: in_temp, Length: 2663, dtype: float64\n",
      "time\n",
      "2021-02-04 09:14:00+00:00     NaN\n",
      "2021-02-04 09:15:00+00:00     NaN\n",
      "2021-02-04 09:16:00+00:00     NaN\n",
      "2021-02-04 09:17:00+00:00    3.10\n",
      "2021-02-04 09:18:00+00:00    3.20\n",
      "                             ... \n",
      "2021-02-06 05:32:00+00:00     NaN\n",
      "2021-02-06 05:33:00+00:00     NaN\n",
      "2021-02-06 05:34:00+00:00    0.00\n",
      "2021-02-06 05:35:00+00:00     NaN\n",
      "2021-02-06 05:36:00+00:00    0.11\n",
      "Freq: T, Name: in_temp, Length: 2663, dtype: float64\n",
      "set()\n",
      "SerialImputation\n",
      "NaN Ratio: in_temp 25.08 %\n",
      "{'min': 0, 'max': 2, 'method': 'linear', 'parameter': {}}\n",
      "{'min': 3, 'max': 6, 'method': 'brits', 'parameter': {'model_address': '/Users/bunnyjw/Git/KETIPrePartialDataPreprocessing/data_imputation/DL/brits/model/air_indoor_경로당/ICL1L2000234/in_temp'}}\n",
      "birts_imputation\n",
      "                           in_temp\n",
      "time                              \n",
      "2021-02-04 09:14:00+00:00    5.300\n",
      "2021-02-04 09:15:00+00:00    5.300\n",
      "2021-02-04 09:16:00+00:00    6.600\n",
      "2021-02-04 09:17:00+00:00    8.400\n",
      "2021-02-04 09:18:00+00:00    9.800\n",
      "...                            ...\n",
      "2021-02-06 05:32:00+00:00   19.390\n",
      "2021-02-06 05:33:00+00:00   19.390\n",
      "2021-02-06 05:34:00+00:00   19.390\n",
      "2021-02-06 05:35:00+00:00   19.445\n",
      "2021-02-06 05:36:00+00:00   19.500\n",
      "\n",
      "[2663 rows x 1 columns]\n"
     ]
    }
   ],
   "source": [
    "# Preprocessing\n",
    "from KETIPrePartialDataPreprocessing import data_preprocessing\n",
    "column_name = 'in_temp'\n",
    "input_data =  input_test_data[[column_name]][:2000]\n",
    "partialP = data_preprocessing.packagedPartialProcessing(process_param)\n",
    "output = partialP.allPartialProcessing(input_data)"
   ]
  },
  {
   "cell_type": "code",
   "execution_count": null,
   "metadata": {
    "scrolled": false
   },
   "outputs": [],
   "source": [
    "# Check each result\n",
    "import matplotlib.pyplot as plt\n",
    "for key in output:\n",
    "    temp = output[key]\n",
    "    print(\"key: \", key, \"Data Leangth:\", len(temp), \"Data NaN Length:\", temp.isna().sum())\n",
    "    print(temp)\n",
    "    temp.plot()\n",
    "    plt.show()"
   ]
  },
  {
   "cell_type": "code",
   "execution_count": null,
   "metadata": {},
   "outputs": [],
   "source": []
  },
  {
   "cell_type": "code",
   "execution_count": null,
   "metadata": {},
   "outputs": [],
   "source": []
  },
  {
   "cell_type": "code",
   "execution_count": null,
   "metadata": {},
   "outputs": [],
   "source": []
  },
  {
   "cell_type": "code",
   "execution_count": null,
   "metadata": {},
   "outputs": [],
   "source": []
  },
  {
   "cell_type": "code",
   "execution_count": null,
   "metadata": {},
   "outputs": [],
   "source": []
  },
  {
   "cell_type": "code",
   "execution_count": null,
   "metadata": {},
   "outputs": [],
   "source": []
  },
  {
   "cell_type": "code",
   "execution_count": null,
   "metadata": {},
   "outputs": [],
   "source": []
  },
  {
   "cell_type": "code",
   "execution_count": null,
   "metadata": {},
   "outputs": [],
   "source": []
  }
 ],
 "metadata": {
  "interpreter": {
   "hash": "1796aacadfdf1b8ce3fabca5224c2ed4902f3cf33c376ce9a04415899520095e"
  },
  "kernelspec": {
   "display_name": "Python 3 (ipykernel)",
   "language": "python",
   "name": "python3"
  },
  "language_info": {
   "codemirror_mode": {
    "name": "ipython",
    "version": 3
   },
   "file_extension": ".py",
   "mimetype": "text/x-python",
   "name": "python",
   "nbconvert_exporter": "python",
   "pygments_lexer": "ipython3",
   "version": "3.8.11"
  },
  "toc": {
   "base_numbering": 1,
   "nav_menu": {},
   "number_sections": true,
   "sideBar": true,
   "skip_h1_title": false,
   "title_cell": "Table of Contents",
   "title_sidebar": "Contents",
   "toc_cell": false,
   "toc_position": {},
   "toc_section_display": true,
   "toc_window_display": false
  },
  "varInspector": {
   "cols": {
    "lenName": 16,
    "lenType": 16,
    "lenVar": 40
   },
   "kernels_config": {
    "python": {
     "delete_cmd_postfix": "",
     "delete_cmd_prefix": "del ",
     "library": "var_list.py",
     "varRefreshCmd": "print(var_dic_list())"
    },
    "r": {
     "delete_cmd_postfix": ") ",
     "delete_cmd_prefix": "rm(",
     "library": "var_list.r",
     "varRefreshCmd": "cat(var_dic_list()) "
    }
   },
   "types_to_exclude": [
    "module",
    "function",
    "builtin_function_or_method",
    "instance",
    "_Feature"
   ],
   "window_display": false
  }
 },
 "nbformat": 4,
 "nbformat_minor": 4
}
