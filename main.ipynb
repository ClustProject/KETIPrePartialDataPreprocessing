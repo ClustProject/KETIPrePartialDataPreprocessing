{
 "cells": [
  {
   "cell_type": "code",
   "execution_count": 1,
   "metadata": {
    "scrolled": false
   },
   "outputs": [],
   "source": [
    "import sys\n",
    "import os\n",
    "sys.path.append(\"../\")\n",
    "sys.path.append(\"../..\")\n",
    "\n",
    "from KETIPrePartialDataPreprocessing import main\n",
    "import setting\n",
    "inputType ='file' # or file"
   ]
  },
  {
   "cell_type": "code",
   "execution_count": 2,
   "metadata": {},
   "outputs": [
    {
     "data": {
      "text/plain": [
       "{'serialImputation': {'flag': True,\n",
       "  'imputation_method': [{'min': 0,\n",
       "    'max': 10,\n",
       "    'method': 'MICE',\n",
       "    'parameter': {}}],\n",
       "  'totalNanLimit': 20}}"
      ]
     },
     "execution_count": 2,
     "metadata": {},
     "output_type": "execute_result"
    }
   ],
   "source": [
    "setting.imputation_param"
   ]
  },
  {
   "cell_type": "code",
   "execution_count": 3,
   "metadata": {},
   "outputs": [],
   "source": [
    "# Declare your own data\n",
    "input_data = main.inputControl(inputType)\n",
    "# Make noise\n",
    "import numpy as np\n",
    "input_test_data = input_data.replace(4.0, np.nan)"
   ]
  },
  {
   "cell_type": "code",
   "execution_count": 4,
   "metadata": {
    "scrolled": false
   },
   "outputs": [
    {
     "name": "stdout",
     "output_type": "stream",
     "text": [
      "temp\n",
      "co2\n",
      "pm10\n",
      "getDataWithCertainNaN\n",
      "getDataWithUncertainNaN\n",
      "0.48619072433559146 0.5834288692027098\n",
      "timedate\n",
      "2021-01-28 12:51:00    NaN\n",
      "2021-01-28 12:52:00    0.0\n",
      "2021-01-28 12:53:00    NaN\n",
      "2021-01-28 12:54:00    NaN\n",
      "2021-01-28 12:55:00    NaN\n",
      "                      ... \n",
      "2021-01-29 22:09:00    0.0\n",
      "2021-01-29 22:10:00    0.0\n",
      "2021-01-29 22:11:00    0.0\n",
      "2021-01-29 22:12:00    0.0\n",
      "2021-01-29 22:13:00    0.0\n",
      "Freq: 60S, Name: temp, Length: 2003, dtype: float64\n",
      "timedate\n",
      "2021-01-28 12:51:00    NaN\n",
      "2021-01-28 12:52:00    NaN\n",
      "2021-01-28 12:53:00    NaN\n",
      "2021-01-28 12:54:00    NaN\n",
      "2021-01-28 12:55:00    NaN\n",
      "                      ... \n",
      "2021-01-29 22:09:00    0.0\n",
      "2021-01-29 22:10:00    0.0\n",
      "2021-01-29 22:11:00    0.0\n",
      "2021-01-29 22:12:00    0.0\n",
      "2021-01-29 22:13:00    0.0\n",
      "Freq: 60S, Name: temp, Length: 2003, dtype: float64\n",
      "{Timestamp('2021-01-28 17:55:00'), Timestamp('2021-01-29 03:25:00'), Timestamp('2021-01-28 17:26:00'), Timestamp('2021-01-29 13:44:00'), Timestamp('2021-01-29 03:35:00'), Timestamp('2021-01-29 11:48:00'), Timestamp('2021-01-29 04:19:00'), Timestamp('2021-01-29 03:37:00'), Timestamp('2021-01-28 14:38:00'), Timestamp('2021-01-28 23:04:00'), Timestamp('2021-01-29 12:10:00'), Timestamp('2021-01-29 03:55:00'), Timestamp('2021-01-29 18:10:00'), Timestamp('2021-01-28 18:01:00'), Timestamp('2021-01-29 04:01:00'), Timestamp('2021-01-28 18:27:00'), Timestamp('2021-01-28 22:51:00'), Timestamp('2021-01-29 04:48:00'), Timestamp('2021-01-29 11:24:00'), Timestamp('2021-01-29 03:07:00'), Timestamp('2021-01-29 09:38:00'), Timestamp('2021-01-29 17:53:00'), Timestamp('2021-01-28 19:48:00'), Timestamp('2021-01-29 10:51:00'), Timestamp('2021-01-29 02:18:00'), Timestamp('2021-01-29 17:18:00'), Timestamp('2021-01-28 15:29:00'), Timestamp('2021-01-28 15:12:00'), Timestamp('2021-01-29 19:26:00'), Timestamp('2021-01-28 14:58:00'), Timestamp('2021-01-28 20:58:00'), Timestamp('2021-01-28 18:23:00'), Timestamp('2021-01-28 19:46:00'), Timestamp('2021-01-29 14:55:00'), Timestamp('2021-01-28 17:57:00'), Timestamp('2021-01-29 17:33:00'), Timestamp('2021-01-28 19:52:00'), Timestamp('2021-01-28 19:56:00'), Timestamp('2021-01-28 17:50:00'), Timestamp('2021-01-28 14:24:00'), Timestamp('2021-01-28 14:35:00'), Timestamp('2021-01-28 15:10:00'), Timestamp('2021-01-29 05:07:00'), Timestamp('2021-01-28 20:04:00'), Timestamp('2021-01-29 12:43:00'), Timestamp('2021-01-28 19:59:00'), Timestamp('2021-01-28 13:59:00'), Timestamp('2021-01-28 19:26:00'), Timestamp('2021-01-29 22:01:00'), Timestamp('2021-01-29 03:31:00'), Timestamp('2021-01-28 15:19:00'), Timestamp('2021-01-28 17:31:00'), Timestamp('2021-01-28 14:09:00'), Timestamp('2021-01-28 17:43:00'), Timestamp('2021-01-29 02:40:00'), Timestamp('2021-01-28 14:56:00'), Timestamp('2021-01-28 20:31:00'), Timestamp('2021-01-28 15:35:00'), Timestamp('2021-01-29 04:38:00'), Timestamp('2021-01-29 03:41:00'), Timestamp('2021-01-29 12:40:00'), Timestamp('2021-01-29 03:48:00'), Timestamp('2021-01-29 03:29:00'), Timestamp('2021-01-29 18:29:00'), Timestamp('2021-01-28 14:10:00'), Timestamp('2021-01-29 04:43:00'), Timestamp('2021-01-28 17:24:00'), Timestamp('2021-01-29 18:08:00'), Timestamp('2021-01-28 17:48:00'), Timestamp('2021-01-29 03:50:00'), Timestamp('2021-01-29 10:15:00'), Timestamp('2021-01-28 14:16:00'), Timestamp('2021-01-29 04:50:00'), Timestamp('2021-01-28 19:30:00'), Timestamp('2021-01-29 10:56:00'), Timestamp('2021-01-29 03:20:00'), Timestamp('2021-01-29 05:17:00'), Timestamp('2021-01-29 12:50:00'), Timestamp('2021-01-29 02:28:00'), Timestamp('2021-01-28 15:42:00'), Timestamp('2021-01-28 20:21:00'), Timestamp('2021-01-29 12:48:00'), Timestamp('2021-01-29 04:56:00'), Timestamp('2021-01-28 15:21:00'), Timestamp('2021-01-29 17:16:00'), Timestamp('2021-01-29 18:59:00'), Timestamp('2021-01-29 10:49:00'), Timestamp('2021-01-28 14:04:00'), Timestamp('2021-01-29 17:31:00'), Timestamp('2021-01-29 17:37:00'), Timestamp('2021-01-28 20:06:00'), Timestamp('2021-01-29 12:31:00')}\n",
      "1.261046216353479 1.5132554596241747\n",
      "timedate\n",
      "2021-01-28 12:51:00    NaN\n",
      "2021-01-28 12:52:00    0.0\n",
      "2021-01-28 12:53:00    1.0\n",
      "2021-01-28 12:54:00    1.0\n",
      "2021-01-28 12:55:00    0.0\n",
      "                      ... \n",
      "2021-01-29 22:09:00    0.0\n",
      "2021-01-29 22:10:00    0.0\n",
      "2021-01-29 22:11:00    0.0\n",
      "2021-01-29 22:12:00    0.0\n",
      "2021-01-29 22:13:00    0.0\n",
      "Freq: 60S, Name: co2, Length: 2003, dtype: float64\n",
      "timedate\n",
      "2021-01-28 12:51:00    NaN\n",
      "2021-01-28 12:52:00    NaN\n",
      "2021-01-28 12:53:00    1.0\n",
      "2021-01-28 12:54:00    2.0\n",
      "2021-01-28 12:55:00    1.0\n",
      "                      ... \n",
      "2021-01-29 22:09:00    1.0\n",
      "2021-01-29 22:10:00    0.0\n",
      "2021-01-29 22:11:00    0.0\n",
      "2021-01-29 22:12:00    0.0\n",
      "2021-01-29 22:13:00    0.0\n",
      "Freq: 60S, Name: co2, Length: 2003, dtype: float64\n",
      "set()\n",
      "24.444416624937407 29.333299949924886\n",
      "timedate\n",
      "2021-01-28 12:51:00    NaN\n",
      "2021-01-28 12:52:00    NaN\n",
      "2021-01-28 12:53:00    8.0\n",
      "2021-01-28 12:54:00    3.0\n",
      "2021-01-28 12:55:00    0.0\n",
      "                      ... \n",
      "2021-01-29 22:09:00    0.0\n",
      "2021-01-29 22:10:00    1.0\n",
      "2021-01-29 22:11:00    1.0\n",
      "2021-01-29 22:12:00    0.0\n",
      "2021-01-29 22:13:00    0.0\n",
      "Freq: 60S, Name: pm10, Length: 2003, dtype: float64\n",
      "timedate\n",
      "2021-01-28 12:51:00    NaN\n",
      "2021-01-28 12:52:00    NaN\n",
      "2021-01-28 12:53:00    NaN\n",
      "2021-01-28 12:54:00    5.0\n",
      "2021-01-28 12:55:00    3.0\n",
      "                      ... \n",
      "2021-01-29 22:09:00    0.0\n",
      "2021-01-29 22:10:00    1.0\n",
      "2021-01-29 22:11:00    0.0\n",
      "2021-01-29 22:12:00    1.0\n",
      "2021-01-29 22:13:00    0.0\n",
      "Freq: 60S, Name: pm10, Length: 2003, dtype: float64\n",
      "set()\n",
      "===== NaN data Ratio summary ======\n",
      "temp    0.04\n",
      "co2     0.02\n",
      "pm10    0.00\n",
      "dtype: float64\n",
      "temp    84\n",
      "co2     34\n",
      "pm10     6\n",
      "dtype: int64\n",
      "{'min': 0, 'max': 10, 'method': 'MICE', 'parameter': {}}\n",
      "temp    0\n",
      "co2     0\n",
      "pm10    0\n",
      "dtype: int64\n"
     ]
    }
   ],
   "source": [
    "# Preprocessing\n",
    "from KETIPrePartialDataPreprocessing import data_preprocessing\n",
    "#column_name ='in_temp'\n",
    "input_data =  input_test_data[:2000]\n",
    "partialP = data_preprocessing.packagedPartialProcessing(setting.process_param)\n",
    "output = partialP.allPartialProcessing(input_data)"
   ]
  },
  {
   "cell_type": "code",
   "execution_count": 5,
   "metadata": {
    "scrolled": false
   },
   "outputs": [
    {
     "name": "stdout",
     "output_type": "stream",
     "text": [
      "key:  original Data Leangth: 2000 Data NaN Length: temp    81\n",
      "co2     31\n",
      "pm10     0\n",
      "dtype: int64\n",
      "                     temp  co2    pm10\n",
      "timedate                              \n",
      "2021-01-28 12:51:00   3.0  5.0 -9999.0\n",
      "2021-01-28 12:52:00   3.0  5.0    64.0\n",
      "2021-01-28 12:53:00   NaN  6.0    56.0\n",
      "2021-01-28 12:54:00   NaN  7.0    59.0\n",
      "2021-01-28 12:55:00   NaN  7.0    59.0\n",
      "...                   ...  ...     ...\n",
      "2021-01-29 22:09:00   1.0  3.0    48.0\n",
      "2021-01-29 22:10:00   1.0  3.0    49.0\n",
      "2021-01-29 22:11:00   1.0  3.0    48.0\n",
      "2021-01-29 22:12:00   1.0  3.0    48.0\n",
      "2021-01-29 22:13:00   1.0  3.0    48.0\n",
      "\n",
      "[2000 rows x 3 columns]\n"
     ]
    },
    {
     "data": {
      "image/png": "[encoded data removed]",
      "text/plain": [
       "<Figure size 432x288 with 1 Axes>"
      ]
     },
     "metadata": {
      "needs_background": "light"
     },
     "output_type": "display_data"
    },
    {
     "name": "stdout",
     "output_type": "stream",
     "text": [
      "key:  refined_data Data Leangth: 2003 Data NaN Length: temp    84\n",
      "co2     34\n",
      "pm10     3\n",
      "dtype: int64\n",
      "                     temp  co2    pm10\n",
      "timedate                              \n",
      "2021-01-28 12:51:00   3.0  5.0 -9999.0\n",
      "2021-01-28 12:52:00   3.0  5.0    64.0\n",
      "2021-01-28 12:53:00   NaN  6.0    56.0\n",
      "2021-01-28 12:54:00   NaN  7.0    59.0\n",
      "2021-01-28 12:55:00   NaN  7.0    59.0\n",
      "...                   ...  ...     ...\n",
      "2021-01-29 22:09:00   1.0  3.0    48.0\n",
      "2021-01-29 22:10:00   1.0  3.0    49.0\n",
      "2021-01-29 22:11:00   1.0  3.0    48.0\n",
      "2021-01-29 22:12:00   1.0  3.0    48.0\n",
      "2021-01-29 22:13:00   1.0  3.0    48.0\n",
      "\n",
      "[2003 rows x 3 columns]\n"
     ]
    },
    {
     "data": {
      "image/png": "[encoded data removed]",
      "text/plain": [
       "<Figure size 432x288 with 1 Axes>"
      ]
     },
     "metadata": {
      "needs_background": "light"
     },
     "output_type": "display_data"
    },
    {
     "name": "stdout",
     "output_type": "stream",
     "text": [
      "key:  datawithMoreCertainNaN Data Leangth: 2003 Data NaN Length: temp    84\n",
      "co2     34\n",
      "pm10     6\n",
      "dtype: int64\n",
      "                     temp  co2  pm10\n",
      "timedate                            \n",
      "2021-01-28 12:51:00   3.0  5.0   NaN\n",
      "2021-01-28 12:52:00   3.0  5.0  64.0\n",
      "2021-01-28 12:53:00   NaN  6.0  56.0\n",
      "2021-01-28 12:54:00   NaN  7.0  59.0\n",
      "2021-01-28 12:55:00   NaN  7.0  59.0\n",
      "...                   ...  ...   ...\n",
      "2021-01-29 22:09:00   1.0  3.0  48.0\n",
      "2021-01-29 22:10:00   1.0  3.0  49.0\n",
      "2021-01-29 22:11:00   1.0  3.0  48.0\n",
      "2021-01-29 22:12:00   1.0  3.0  48.0\n",
      "2021-01-29 22:13:00   1.0  3.0  48.0\n",
      "\n",
      "[2003 rows x 3 columns]\n"
     ]
    },
    {
     "data": {
      "image/png": "[encoded data removed]",
      "text/plain": [
       "<Figure size 432x288 with 1 Axes>"
      ]
     },
     "metadata": {
      "needs_background": "light"
     },
     "output_type": "display_data"
    },
    {
     "name": "stdout",
     "output_type": "stream",
     "text": [
      "key:  datawithMoreUnCertainNaN Data Leangth: 2003 Data NaN Length: temp    3\n",
      "co2     6\n",
      "pm10    0\n",
      "dtype: int64\n",
      "                         temp  co2       pm10\n",
      "timedate                                     \n",
      "2021-01-28 12:51:00  3.000000  5.0  50.071316\n",
      "2021-01-28 12:52:00  3.000000  5.0  64.000000\n",
      "2021-01-28 12:53:00  3.089443  6.0  56.000000\n",
      "2021-01-28 12:54:00  4.174520  7.0  59.000000\n",
      "2021-01-28 12:55:00  3.439773  7.0  59.000000\n",
      "...                       ...  ...        ...\n",
      "2021-01-29 22:09:00  1.000000  3.0  48.000000\n",
      "2021-01-29 22:10:00  1.000000  3.0  49.000000\n",
      "2021-01-29 22:11:00  1.000000  3.0  48.000000\n",
      "2021-01-29 22:12:00  1.000000  3.0  48.000000\n",
      "2021-01-29 22:13:00  1.000000  3.0  48.000000\n",
      "\n",
      "[2003 rows x 3 columns]\n"
     ]
    },
    {
     "data": {
      "image/png": "[encoded data removed]",
      "text/plain": [
       "<Figure size 432x288 with 1 Axes>"
      ]
     },
     "metadata": {
      "needs_background": "light"
     },
     "output_type": "display_data"
    },
    {
     "name": "stdout",
     "output_type": "stream",
     "text": [
      "key:  imputed_data Data Leangth: 2003 Data NaN Length: temp    3\n",
      "co2     6\n",
      "pm10    0\n",
      "dtype: int64\n",
      "                         temp  co2       pm10\n",
      "timedate                                     \n",
      "2021-01-28 12:51:00  3.000000  5.0  50.071316\n",
      "2021-01-28 12:52:00  3.000000  5.0  64.000000\n",
      "2021-01-28 12:53:00  3.089443  6.0  56.000000\n",
      "2021-01-28 12:54:00  4.174520  7.0  59.000000\n",
      "2021-01-28 12:55:00  3.439773  7.0  59.000000\n",
      "...                       ...  ...        ...\n",
      "2021-01-29 22:09:00  1.000000  3.0  48.000000\n",
      "2021-01-29 22:10:00  1.000000  3.0  49.000000\n",
      "2021-01-29 22:11:00  1.000000  3.0  48.000000\n",
      "2021-01-29 22:12:00  1.000000  3.0  48.000000\n",
      "2021-01-29 22:13:00  1.000000  3.0  48.000000\n",
      "\n",
      "[2003 rows x 3 columns]\n"
     ]
    },
    {
     "data": {
      "image/png": "[encoded data removed]",
      "text/plain": [
       "<Figure size 432x288 with 1 Axes>"
      ]
     },
     "metadata": {
      "needs_background": "light"
     },
     "output_type": "display_data"
    }
   ],
   "source": [
    "# Check each result\n",
    "import matplotlib.pyplot as plt\n",
    "for key in output:\n",
    "    temp = output[key]\n",
    "    print(\"key: \", key, \"Data Leangth:\", len(temp), \"Data NaN Length:\", temp.isna().sum())\n",
    "    print(temp)\n",
    "    temp.plot()\n",
    "    plt.show()"
   ]
  },
  {
   "cell_type": "code",
   "execution_count": 6,
   "metadata": {},
   "outputs": [
    {
     "name": "stdout",
     "output_type": "stream",
     "text": [
      "     0   1    2    3    4    5    6    7   8    9\n",
      "0  NaN NaN  NaN  1.0  1.0  NaN  NaN  NaN NaN  NaN\n",
      "1  1.0 NaN  1.0  NaN  NaN  NaN  NaN  NaN NaN  NaN\n",
      "2  NaN NaN  NaN  NaN  NaN  1.0  1.0  NaN NaN  NaN\n",
      "3  NaN NaN  NaN  NaN  1.0  NaN  NaN  NaN NaN  NaN\n",
      "4  NaN NaN  NaN  NaN  NaN  1.0  NaN  NaN NaN  1.0\n",
      "5  NaN NaN  NaN  1.0  1.0  NaN  NaN  1.0 NaN  1.0\n",
      "6  NaN NaN  NaN  NaN  NaN  NaN  NaN  NaN NaN  NaN\n",
      "7  NaN NaN  NaN  NaN  NaN  NaN  NaN  NaN NaN  NaN\n",
      "8  NaN NaN  NaN  NaN  NaN  NaN  NaN  1.0 NaN  NaN\n",
      "9  1.0 NaN  NaN  NaN  1.0  NaN  NaN  1.0 NaN  NaN\n",
      "     0    3    4    5    7    9\n",
      "0  NaN  1.0  1.0  NaN  NaN  NaN\n",
      "1  1.0  NaN  NaN  NaN  NaN  NaN\n",
      "2  NaN  NaN  NaN  1.0  NaN  NaN\n",
      "3  NaN  NaN  1.0  NaN  NaN  NaN\n",
      "4  NaN  NaN  NaN  1.0  NaN  1.0\n",
      "5  NaN  1.0  1.0  NaN  1.0  1.0\n",
      "6  NaN  NaN  NaN  NaN  NaN  NaN\n",
      "7  NaN  NaN  NaN  NaN  NaN  NaN\n",
      "8  NaN  NaN  NaN  NaN  1.0  NaN\n",
      "9  1.0  NaN  1.0  NaN  1.0  NaN\n"
     ]
    }
   ],
   "source": [
    "import pandas as pd\n",
    "np.random.seed(1997)\n",
    "df = pd.DataFrame(np.random.choice([np.nan,1], p=(0.8,0.2),size=(10,10)))\n",
    "print (df)\n",
    "\n",
    "df1 = df.dropna(thresh=2, axis=1)\n",
    "print (df1)\n"
   ]
  },
  {
   "cell_type": "code",
   "execution_count": null,
   "metadata": {},
   "outputs": [],
   "source": []
  },
  {
   "cell_type": "code",
   "execution_count": null,
   "metadata": {},
   "outputs": [],
   "source": []
  },
  {
   "cell_type": "code",
   "execution_count": null,
   "metadata": {},
   "outputs": [],
   "source": []
  },
  {
   "cell_type": "code",
   "execution_count": null,
   "metadata": {},
   "outputs": [],
   "source": []
  },
  {
   "cell_type": "code",
   "execution_count": null,
   "metadata": {},
   "outputs": [],
   "source": []
  },
  {
   "cell_type": "code",
   "execution_count": null,
   "metadata": {},
   "outputs": [],
   "source": []
  },
  {
   "cell_type": "code",
   "execution_count": null,
   "metadata": {},
   "outputs": [],
   "source": []
  }
 ],
 "metadata": {
  "interpreter": {
   "hash": "1796aacadfdf1b8ce3fabca5224c2ed4902f3cf33c376ce9a04415899520095e"
  },
  "kernelspec": {
   "display_name": "Python 3 (ipykernel)",
   "language": "python",
   "name": "python3"
  },
  "language_info": {
   "codemirror_mode": {
    "name": "ipython",
    "version": 3
   },
   "file_extension": ".py",
   "mimetype": "text/x-python",
   "name": "python",
   "nbconvert_exporter": "python",
   "pygments_lexer": "ipython3",
   "version": "3.8.11"
  },
  "toc": {
   "base_numbering": 1,
   "nav_menu": {},
   "number_sections": true,
   "sideBar": true,
   "skip_h1_title": false,
   "title_cell": "Table of Contents",
   "title_sidebar": "Contents",
   "toc_cell": false,
   "toc_position": {},
   "toc_section_display": true,
   "toc_window_display": false
  },
  "varInspector": {
   "cols": {
    "lenName": 16,
    "lenType": 16,
    "lenVar": 40
   },
   "kernels_config": {
    "python": {
     "delete_cmd_postfix": "",
     "delete_cmd_prefix": "del ",
     "library": "var_list.py",
     "varRefreshCmd": "print(var_dic_list())"
    },
    "r": {
     "delete_cmd_postfix": ") ",
     "delete_cmd_prefix": "rm(",
     "library": "var_list.r",
     "varRefreshCmd": "cat(var_dic_list()) "
    }
   },
   "types_to_exclude": [
    "module",
    "function",
    "builtin_function_or_method",
    "instance",
    "_Feature"
   ],
   "window_display": false
  }
 },
 "nbformat": 4,
 "nbformat_minor": 4
}
