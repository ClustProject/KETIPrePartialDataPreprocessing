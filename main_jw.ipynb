{
 "cells": [
  {
   "cell_type": "code",
   "execution_count": 5,
   "metadata": {},
   "outputs": [],
   "source": [
    "import sys\n",
    "import os\n",
    "sys.path.append(\"../\")\n",
    "sys.path.append(\"../..\")\n",
    "\n",
    "def inputControl(inputType):\n",
    "    if inputType==\"file\":\n",
    "        BASE_DIR = os.getcwd()\n",
    "        input_file = os.path.join(BASE_DIR, 'data_miss_original.csv')\n",
    "        input_data = getData().getFileInput(input_file, 'timedate')\n",
    "    elif inputType ==\"influx\":\n",
    "        input_data = \"Emtpy\"\n",
    "\n",
    "    return input_data"
   ]
  },
  {
   "cell_type": "code",
   "execution_count": 6,
   "metadata": {},
   "outputs": [],
   "source": [
    "imputation_param ={\n",
    "\"imputation_method\":[\n",
    "    {\n",
    "        \"min\":0,\n",
    "        \"max\":1,\n",
    "        \"method\":\"mean\"\n",
    "    },\n",
    "    {\n",
    "        \"min\":2,\n",
    "        \"max\":4,\n",
    "        \"method\":\"linear\"\n",
    "    },\n",
    "    {\n",
    "        \"min\":5,\n",
    "        \"max\":10,\n",
    "        \"method\":\"brits\"\n",
    "    }\n",
    "],\n",
    "    \"totalNanLimit\":0.3\n",
    "}\n",
    "\n",
    "outlier_remove_param={'flag':True, 'data_type':'air', 'uncertain_outlier_remove':False, 'staticFrequency':True}\n",
    "from KETIPrePartialDataPreprocessing.data_manager.multipleDataSourceIngestion import getData"
   ]
  },
  {
   "cell_type": "code",
   "execution_count": 7,
   "metadata": {},
   "outputs": [
    {
     "name": "stdout",
     "output_type": "stream",
     "text": [
      "temp    0\n",
      "co2     0\n",
      "pm10    0\n",
      "dtype: int64\n",
      "temp    212986\n",
      "co2     212635\n",
      "pm10    212746\n",
      "dtype: int64\n"
     ]
    }
   ],
   "source": [
    "inputType ='file'\n",
    "input_data = inputControl(inputType)\n",
    "from data_cleaning import DataCleaning\n",
    "MDP = DataCleaning()\n",
    "MDP.setData(input_data)\n",
    "\n",
    "output_data = MDP.dataCleaning(imputation_param, outlier_remove_param)\n",
    "print(input_data.isna().sum())\n",
    "print(output_data.isna().sum())"
   ]
  },
  {
   "cell_type": "code",
   "execution_count": 8,
   "metadata": {},
   "outputs": [
    {
     "data": {
      "text/html": [
       "<div>\n",
       "<style scoped>\n",
       "    .dataframe tbody tr th:only-of-type {\n",
       "        vertical-align: middle;\n",
       "    }\n",
       "\n",
       "    .dataframe tbody tr th {\n",
       "        vertical-align: top;\n",
       "    }\n",
       "\n",
       "    .dataframe thead th {\n",
       "        text-align: right;\n",
       "    }\n",
       "</style>\n",
       "<table border=\"1\" class=\"dataframe\">\n",
       "  <thead>\n",
       "    <tr style=\"text-align: right;\">\n",
       "      <th></th>\n",
       "      <th>temp</th>\n",
       "      <th>co2</th>\n",
       "      <th>pm10</th>\n",
       "    </tr>\n",
       "    <tr>\n",
       "      <th>timedate</th>\n",
       "      <th></th>\n",
       "      <th></th>\n",
       "      <th></th>\n",
       "    </tr>\n",
       "  </thead>\n",
       "  <tbody>\n",
       "    <tr>\n",
       "      <th>2021-01-28 12:51:00</th>\n",
       "      <td>3.0</td>\n",
       "      <td>5.0</td>\n",
       "      <td>NaN</td>\n",
       "    </tr>\n",
       "    <tr>\n",
       "      <th>2021-01-28 12:52:00</th>\n",
       "      <td>3.0</td>\n",
       "      <td>5.0</td>\n",
       "      <td>64.0</td>\n",
       "    </tr>\n",
       "    <tr>\n",
       "      <th>2021-01-28 12:53:00</th>\n",
       "      <td>4.0</td>\n",
       "      <td>6.0</td>\n",
       "      <td>56.0</td>\n",
       "    </tr>\n",
       "    <tr>\n",
       "      <th>2021-01-28 12:54:00</th>\n",
       "      <td>4.0</td>\n",
       "      <td>7.0</td>\n",
       "      <td>59.0</td>\n",
       "    </tr>\n",
       "    <tr>\n",
       "      <th>2021-01-28 12:55:00</th>\n",
       "      <td>NaN</td>\n",
       "      <td>NaN</td>\n",
       "      <td>NaN</td>\n",
       "    </tr>\n",
       "    <tr>\n",
       "      <th>...</th>\n",
       "      <td>...</td>\n",
       "      <td>...</td>\n",
       "      <td>...</td>\n",
       "    </tr>\n",
       "    <tr>\n",
       "      <th>2021-07-01 17:59:00</th>\n",
       "      <td>NaN</td>\n",
       "      <td>NaN</td>\n",
       "      <td>NaN</td>\n",
       "    </tr>\n",
       "    <tr>\n",
       "      <th>2021-07-01 18:00:00</th>\n",
       "      <td>NaN</td>\n",
       "      <td>NaN</td>\n",
       "      <td>NaN</td>\n",
       "    </tr>\n",
       "    <tr>\n",
       "      <th>2021-07-01 18:01:00</th>\n",
       "      <td>NaN</td>\n",
       "      <td>NaN</td>\n",
       "      <td>NaN</td>\n",
       "    </tr>\n",
       "    <tr>\n",
       "      <th>2021-07-01 18:02:00</th>\n",
       "      <td>NaN</td>\n",
       "      <td>NaN</td>\n",
       "      <td>NaN</td>\n",
       "    </tr>\n",
       "    <tr>\n",
       "      <th>2021-07-01 18:03:00</th>\n",
       "      <td>32.0</td>\n",
       "      <td>55.0</td>\n",
       "      <td>57.0</td>\n",
       "    </tr>\n",
       "  </tbody>\n",
       "</table>\n",
       "<p>222073 rows × 3 columns</p>\n",
       "</div>"
      ],
      "text/plain": [
       "                     temp   co2  pm10\n",
       "timedate                             \n",
       "2021-01-28 12:51:00   3.0   5.0   NaN\n",
       "2021-01-28 12:52:00   3.0   5.0  64.0\n",
       "2021-01-28 12:53:00   4.0   6.0  56.0\n",
       "2021-01-28 12:54:00   4.0   7.0  59.0\n",
       "2021-01-28 12:55:00   NaN   NaN   NaN\n",
       "...                   ...   ...   ...\n",
       "2021-07-01 17:59:00   NaN   NaN   NaN\n",
       "2021-07-01 18:00:00   NaN   NaN   NaN\n",
       "2021-07-01 18:01:00   NaN   NaN   NaN\n",
       "2021-07-01 18:02:00   NaN   NaN   NaN\n",
       "2021-07-01 18:03:00  32.0  55.0  57.0\n",
       "\n",
       "[222073 rows x 3 columns]"
      ]
     },
     "execution_count": 8,
     "metadata": {},
     "output_type": "execute_result"
    }
   ],
   "source": [
    "output_data"
   ]
  },
  {
   "cell_type": "code",
   "execution_count": null,
   "metadata": {},
   "outputs": [],
   "source": []
  }
 ],
 "metadata": {
  "kernelspec": {
   "display_name": "Python 3",
   "language": "python",
   "name": "python3"
  },
  "language_info": {
   "codemirror_mode": {
    "name": "ipython",
    "version": 3
   },
   "file_extension": ".py",
   "mimetype": "text/x-python",
   "name": "python",
   "nbconvert_exporter": "python",
   "pygments_lexer": "ipython3",
   "version": "3.6.8"
  },
  "toc": {
   "base_numbering": 1,
   "nav_menu": {},
   "number_sections": true,
   "sideBar": true,
   "skip_h1_title": false,
   "title_cell": "Table of Contents",
   "title_sidebar": "Contents",
   "toc_cell": false,
   "toc_position": {},
   "toc_section_display": true,
   "toc_window_display": false
  },
  "varInspector": {
   "cols": {
    "lenName": 16,
    "lenType": 16,
    "lenVar": 40
   },
   "kernels_config": {
    "python": {
     "delete_cmd_postfix": "",
     "delete_cmd_prefix": "del ",
     "library": "var_list.py",
     "varRefreshCmd": "print(var_dic_list())"
    },
    "r": {
     "delete_cmd_postfix": ") ",
     "delete_cmd_prefix": "rm(",
     "library": "var_list.r",
     "varRefreshCmd": "cat(var_dic_list()) "
    }
   },
   "types_to_exclude": [
    "module",
    "function",
    "builtin_function_or_method",
    "instance",
    "_Feature"
   ],
   "window_display": false
  }
 },
 "nbformat": 4,
 "nbformat_minor": 4
}
