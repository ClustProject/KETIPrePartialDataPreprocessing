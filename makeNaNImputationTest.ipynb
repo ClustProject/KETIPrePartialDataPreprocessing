{
 "cells": [
  {
   "cell_type": "code",
   "execution_count": 1,
   "metadata": {
    "scrolled": true
   },
   "outputs": [
    {
     "name": "stdout",
     "output_type": "stream",
     "text": [
      "Preprocessing:Refining\n",
      "Preprocessing:DataWithMoreNaN\n",
      "Preprocessing:Imputation\n",
      "NaN Ratio temp 60.86956521739131\n",
      "NaN Ratio co2 30.434782608695656\n",
      "NaN Ratio pm10 34.78260869565217\n"
     ]
    }
   ],
   "source": [
    "import sys\n",
    "import os\n",
    "sys.path.append(\"../\")\n",
    "sys.path.append(\"../..\")\n",
    "\n",
    "from KETIPrePartialDataPreprocessing import makeNaNImputationTest\n",
    "\n",
    "inputType ='file' # or file\n",
    "refine_param = {'removeDuplication':True, 'staticFrequency':True}\n",
    "outlier_param= {'certainOutlierToNaN':True, 'uncertainOutlierToNaN':True, 'data_type':'air'}\n",
    "imputation_param ={\n",
    "\"imputation_method\":[\n",
    "    {\"min\":0,\"max\":2,\"method\":\"linear\"}],\"totalNanLimit\":90}\n",
    "\n",
    "# mean, median X\n",
    "# ffill~polynomial_interpolate=> 각 구간마다 딱 고만큼만 Fill\n",
    "\n",
    "input_data = makeNaNImputationTest.inputControl(inputType)\n",
    "from KETIPrePartialDataPreprocessing import data_preprocessing\n",
    "import numpy as np\n",
    "input_test_data = input_data.replace(4.0, np.nan)\n",
    "output = data_preprocessing.get_preprocessed_data(input_test_data[:25], refine_param, outlier_param, imputation_param)"
   ]
  },
  {
   "cell_type": "code",
   "execution_count": 2,
   "metadata": {
    "scrolled": false
   },
   "outputs": [
    {
     "name": "stdout",
     "output_type": "stream",
     "text": [
      "original                      temp  co2    pm10\n",
      "timedate                              \n",
      "2021-01-28 12:51:00   3.0  5.0 -9999.0\n",
      "2021-01-28 12:52:00   3.0  5.0    64.0\n",
      "2021-01-28 12:53:00   NaN  6.0    56.0\n",
      "2021-01-28 12:54:00   NaN  7.0    59.0\n",
      "2021-01-28 12:55:00   NaN  7.0    59.0\n",
      "2021-01-28 12:56:00   3.0  6.0    58.0\n",
      "2021-01-28 12:57:00   NaN  7.0    57.0\n",
      "2021-01-28 12:58:00   NaN  7.0    58.0\n",
      "2021-01-28 12:59:00   NaN  6.0    57.0\n",
      "2021-01-28 13:00:00   NaN  7.0    56.0\n",
      "2021-01-28 13:01:00   NaN  6.0    58.0\n",
      "2021-01-28 13:02:00   NaN  7.0    57.0\n",
      "2021-01-28 13:03:00   NaN  6.0    56.0\n",
      "2021-01-28 13:04:00   NaN  6.0    57.0\n",
      "2021-01-28 13:05:00   3.0  6.0    59.0\n",
      "2021-01-28 13:06:00   3.0  6.0    61.0\n",
      "2021-01-28 13:07:00   3.0  6.0    59.0\n",
      "2021-01-28 13:08:00   3.0  6.0    61.0\n",
      "2021-01-28 13:09:00   3.0  5.0    60.0\n",
      "2021-01-28 13:10:00   3.0  6.0    60.0\n",
      "refined_data                      temp  co2    pm10\n",
      "timedate                              \n",
      "2021-01-28 12:51:00   3.0  5.0 -9999.0\n",
      "2021-01-28 12:52:00   3.0  5.0    64.0\n",
      "2021-01-28 12:53:00   NaN  6.0    56.0\n",
      "2021-01-28 12:54:00   NaN  7.0    59.0\n",
      "2021-01-28 12:55:00   NaN  NaN     NaN\n",
      "2021-01-28 12:56:00   3.0  6.0    58.0\n",
      "2021-01-28 12:57:00   NaN  7.0    57.0\n",
      "2021-01-28 12:58:00   NaN  7.0    58.0\n",
      "2021-01-28 12:59:00   NaN  6.0    57.0\n",
      "2021-01-28 13:00:00   NaN  7.0    56.0\n",
      "2021-01-28 13:01:00   NaN  6.0    58.0\n",
      "2021-01-28 13:02:00   NaN  NaN     NaN\n",
      "2021-01-28 13:03:00   NaN  NaN     NaN\n",
      "2021-01-28 13:04:00   NaN  NaN     NaN\n",
      "2021-01-28 13:05:00   3.0  6.0    59.0\n",
      "2021-01-28 13:06:00   3.0  6.0    61.0\n",
      "2021-01-28 13:07:00   NaN  NaN     NaN\n",
      "2021-01-28 13:08:00   NaN  NaN     NaN\n",
      "2021-01-28 13:09:00   3.0  5.0    60.0\n",
      "2021-01-28 13:10:00   3.0  6.0    60.0\n",
      "datawithMoreCertainNaN                      temp  co2  pm10\n",
      "timedate                            \n",
      "2021-01-28 12:51:00   3.0  5.0   NaN\n",
      "2021-01-28 12:52:00   3.0  5.0  64.0\n",
      "2021-01-28 12:53:00   NaN  6.0  56.0\n",
      "2021-01-28 12:54:00   NaN  7.0  59.0\n",
      "2021-01-28 12:55:00   NaN  NaN   NaN\n",
      "2021-01-28 12:56:00   3.0  6.0  58.0\n",
      "2021-01-28 12:57:00   NaN  7.0  57.0\n",
      "2021-01-28 12:58:00   NaN  7.0  58.0\n",
      "2021-01-28 12:59:00   NaN  6.0  57.0\n",
      "2021-01-28 13:00:00   NaN  7.0  56.0\n",
      "2021-01-28 13:01:00   NaN  6.0  58.0\n",
      "2021-01-28 13:02:00   NaN  NaN   NaN\n",
      "2021-01-28 13:03:00   NaN  NaN   NaN\n",
      "2021-01-28 13:04:00   NaN  NaN   NaN\n",
      "2021-01-28 13:05:00   3.0  6.0  59.0\n",
      "2021-01-28 13:06:00   3.0  6.0  61.0\n",
      "2021-01-28 13:07:00   NaN  NaN   NaN\n",
      "2021-01-28 13:08:00   NaN  NaN   NaN\n",
      "2021-01-28 13:09:00   3.0  5.0  60.0\n",
      "2021-01-28 13:10:00   3.0  6.0  60.0\n",
      "datawithMoreUnCertainNaN                      temp  co2  pm10\n",
      "timedate                            \n",
      "2021-01-28 12:51:00   3.0  5.0   NaN\n",
      "2021-01-28 12:52:00   3.0  5.0  64.0\n",
      "2021-01-28 12:53:00   NaN  6.0  56.0\n",
      "2021-01-28 12:54:00   NaN  7.0  59.0\n",
      "2021-01-28 12:55:00   NaN  NaN   NaN\n",
      "2021-01-28 12:56:00   3.0  6.0  58.0\n",
      "2021-01-28 12:57:00   NaN  7.0  57.0\n",
      "2021-01-28 12:58:00   NaN  7.0  58.0\n",
      "2021-01-28 12:59:00   NaN  6.0  57.0\n",
      "2021-01-28 13:00:00   NaN  7.0  56.0\n",
      "2021-01-28 13:01:00   NaN  6.0  58.0\n",
      "2021-01-28 13:02:00   NaN  NaN   NaN\n",
      "2021-01-28 13:03:00   NaN  NaN   NaN\n",
      "2021-01-28 13:04:00   NaN  NaN   NaN\n",
      "2021-01-28 13:05:00   3.0  6.0  59.0\n",
      "2021-01-28 13:06:00   3.0  6.0  61.0\n",
      "2021-01-28 13:07:00   NaN  NaN   NaN\n",
      "2021-01-28 13:08:00   NaN  NaN   NaN\n",
      "2021-01-28 13:09:00   3.0  5.0  60.0\n",
      "2021-01-28 13:10:00   3.0  6.0  60.0\n",
      "imputed_data                      temp       co2       pm10\n",
      "timedate                                      \n",
      "2021-01-28 12:51:00   3.0  5.000000        NaN\n",
      "2021-01-28 12:52:00   3.0  5.000000  64.000000\n",
      "2021-01-28 12:53:00   3.0  6.000000  56.000000\n",
      "2021-01-28 12:54:00   3.0  7.000000  59.000000\n",
      "2021-01-28 12:55:00   NaN  6.500000  58.500000\n",
      "2021-01-28 12:56:00   3.0  6.000000  58.000000\n",
      "2021-01-28 12:57:00   3.0  7.000000  57.000000\n",
      "2021-01-28 12:58:00   3.0  7.000000  58.000000\n",
      "2021-01-28 12:59:00   NaN  6.000000  57.000000\n",
      "2021-01-28 13:00:00   NaN  7.000000  56.000000\n",
      "2021-01-28 13:01:00   NaN  6.000000  58.000000\n",
      "2021-01-28 13:02:00   NaN  6.000000  58.250000\n",
      "2021-01-28 13:03:00   NaN  6.000000  58.500000\n",
      "2021-01-28 13:04:00   NaN       NaN        NaN\n",
      "2021-01-28 13:05:00   3.0  6.000000  59.000000\n",
      "2021-01-28 13:06:00   3.0  6.000000  61.000000\n",
      "2021-01-28 13:07:00   3.0  5.666667  60.666667\n",
      "2021-01-28 13:08:00   3.0  5.333333  60.333333\n",
      "2021-01-28 13:09:00   3.0  5.000000  60.000000\n",
      "2021-01-28 13:10:00   3.0  6.000000  60.000000\n"
     ]
    }
   ],
   "source": [
    "for key in output:\n",
    "    print(key, output[key][:20])"
   ]
  },
  {
   "cell_type": "code",
   "execution_count": null,
   "metadata": {},
   "outputs": [],
   "source": []
  }
 ],
 "metadata": {
  "interpreter": {
   "hash": "1796aacadfdf1b8ce3fabca5224c2ed4902f3cf33c376ce9a04415899520095e"
  },
  "kernelspec": {
   "display_name": "Python 3",
   "language": "python",
   "name": "python3"
  },
  "language_info": {
   "codemirror_mode": {
    "name": "ipython",
    "version": 3
   },
   "file_extension": ".py",
   "mimetype": "text/x-python",
   "name": "python",
   "nbconvert_exporter": "python",
   "pygments_lexer": "ipython3",
   "version": "3.6.8"
  },
  "toc": {
   "base_numbering": 1,
   "nav_menu": {},
   "number_sections": true,
   "sideBar": true,
   "skip_h1_title": false,
   "title_cell": "Table of Contents",
   "title_sidebar": "Contents",
   "toc_cell": false,
   "toc_position": {},
   "toc_section_display": true,
   "toc_window_display": false
  },
  "varInspector": {
   "cols": {
    "lenName": 16,
    "lenType": 16,
    "lenVar": 40
   },
   "kernels_config": {
    "python": {
     "delete_cmd_postfix": "",
     "delete_cmd_prefix": "del ",
     "library": "var_list.py",
     "varRefreshCmd": "print(var_dic_list())"
    },
    "r": {
     "delete_cmd_postfix": ") ",
     "delete_cmd_prefix": "rm(",
     "library": "var_list.r",
     "varRefreshCmd": "cat(var_dic_list()) "
    }
   },
   "types_to_exclude": [
    "module",
    "function",
    "builtin_function_or_method",
    "instance",
    "_Feature"
   ],
   "window_display": false
  }
 },
 "nbformat": 4,
 "nbformat_minor": 4
}
