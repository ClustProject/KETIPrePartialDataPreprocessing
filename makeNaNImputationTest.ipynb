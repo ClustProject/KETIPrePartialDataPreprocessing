{
 "cells": [
  {
   "cell_type": "code",
   "execution_count": 5,
   "metadata": {},
   "outputs": [
    {
     "name": "stdout",
     "output_type": "stream",
     "text": [
      "original in_ciai          0\n",
      "in_cici          0\n",
      "in_cici_co2      0\n",
      "in_cici_humi     0\n",
      "in_cici_noise    0\n",
      "in_cici_pm10     0\n",
      "in_cici_pm25     0\n",
      "in_cici_temp     0\n",
      "in_cici_voc      0\n",
      "in_co2           0\n",
      "in_humi          0\n",
      "in_noise         0\n",
      "in_pm01          0\n",
      "in_pm01_raw      0\n",
      "in_pm10          0\n",
      "in_pm10_raw      0\n",
      "in_pm25          0\n",
      "in_pm25_raw      0\n",
      "in_temp          0\n",
      "in_voc           0\n",
      "dtype: int64\n",
      "after refine in_ciai          5686\n",
      "in_cici          5686\n",
      "in_cici_co2      5686\n",
      "in_cici_humi     5686\n",
      "in_cici_noise    5686\n",
      "in_cici_pm10     5686\n",
      "in_cici_pm25     5686\n",
      "in_cici_temp     5686\n",
      "in_cici_voc      5686\n",
      "in_co2           5686\n",
      "in_humi          5686\n",
      "in_noise         5686\n",
      "in_pm01          5686\n",
      "in_pm01_raw      5686\n",
      "in_pm10          5686\n",
      "in_pm10_raw      5686\n",
      "in_pm25          5686\n",
      "in_pm25_raw      5686\n",
      "in_temp          5686\n",
      "in_voc           5686\n",
      "dtype: int64\n",
      "after outlierDetection in_ciai          5686\n",
      "in_cici          5686\n",
      "in_cici_co2      5777\n",
      "in_cici_humi     5777\n",
      "in_cici_noise    5777\n",
      "in_cici_pm10     5686\n",
      "in_cici_pm25     5686\n",
      "in_cici_temp     5777\n",
      "in_cici_voc      5850\n",
      "in_co2           5804\n",
      "in_humi          5804\n",
      "in_noise         5804\n",
      "in_pm01          5686\n",
      "in_pm01_raw      5686\n",
      "in_pm10          5686\n",
      "in_pm10_raw      5686\n",
      "in_pm25          5686\n",
      "in_pm25_raw      5686\n",
      "in_temp          5804\n",
      "in_voc           5804\n",
      "dtype: int64\n"
     ]
    }
   ],
   "source": [
    "import sys\n",
    "import os\n",
    "sys.path.append(\"../\")\n",
    "sys.path.append(\"../..\")\n",
    "\n",
    " ### Parameter Test\n",
    "inputType ='influx' # or file\n",
    "refine_param = {'removeDuplication':True, 'staticFrequency':True}\n",
    "outlier_param= {'certainOutlierToNaN':True, 'uncertainOutlierToNaN':True, 'data_type':'air'}\n",
    "imputation_param ={\n",
    "\"imputation_method\":[\n",
    "    {\"min\":0,\"max\":1,\"method\":\"mean\"},\n",
    "    {\"min\":2,\"max\":4,\"method\":\"linear\"},\n",
    "    {\"min\":5,\"max\":10,\"method\":\"brits\"}],\n",
    "\"totalNanLimit\":0.3}\n",
    "\n",
    "import makeNaNImputationTest as IT\n",
    "input_data = IT.inputControl(inputType)\n",
    "\n",
    "from KETIPrePartialDataPreprocessing import data_preprocessing\n",
    "output = data_preprocessing.get_preprocessed_data(input_data, refine_param, outlier_param, imputation_param)"
   ]
  },
  {
   "cell_type": "code",
   "execution_count": null,
   "metadata": {},
   "outputs": [],
   "source": []
  }
 ],
 "metadata": {
  "interpreter": {
   "hash": "1796aacadfdf1b8ce3fabca5224c2ed4902f3cf33c376ce9a04415899520095e"
  },
  "kernelspec": {
   "display_name": "Python 3.8.10 64-bit ('CLUST': conda)",
   "name": "python3"
  },
  "language_info": {
   "codemirror_mode": {
    "name": "ipython",
    "version": 3
   },
   "file_extension": ".py",
   "mimetype": "text/x-python",
   "name": "python",
   "nbconvert_exporter": "python",
   "pygments_lexer": "ipython3",
   "version": "3.8.10"
  },
  "toc": {
   "base_numbering": 1,
   "nav_menu": {},
   "number_sections": true,
   "sideBar": true,
   "skip_h1_title": false,
   "title_cell": "Table of Contents",
   "title_sidebar": "Contents",
   "toc_cell": false,
   "toc_position": {},
   "toc_section_display": true,
   "toc_window_display": false
  },
  "varInspector": {
   "cols": {
    "lenName": 16,
    "lenType": 16,
    "lenVar": 40
   },
   "kernels_config": {
    "python": {
     "delete_cmd_postfix": "",
     "delete_cmd_prefix": "del ",
     "library": "var_list.py",
     "varRefreshCmd": "print(var_dic_list())"
    },
    "r": {
     "delete_cmd_postfix": ") ",
     "delete_cmd_prefix": "rm(",
     "library": "var_list.r",
     "varRefreshCmd": "cat(var_dic_list()) "
    }
   },
   "types_to_exclude": [
    "module",
    "function",
    "builtin_function_or_method",
    "instance",
    "_Feature"
   ],
   "window_display": false
  }
 },
 "nbformat": 4,
 "nbformat_minor": 4
}
