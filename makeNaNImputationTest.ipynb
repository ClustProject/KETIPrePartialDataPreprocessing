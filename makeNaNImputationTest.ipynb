{
 "cells": [
  {
   "cell_type": "code",
   "execution_count": 1,
   "metadata": {
    "scrolled": true
   },
   "outputs": [
    {
     "name": "stdout",
     "output_type": "stream",
     "text": [
      "after removeDuplication 25\n",
      "after make_static_frequency 25\n",
      "NaN Ratio temp 52.0\n",
      "NaN Ratio co2 36.0\n",
      "NaN Ratio pm10 4.0\n"
     ]
    },
    {
     "name": "stderr",
     "output_type": "stream",
     "text": [
      "../KETIPrePartialDataPreprocessing/data_imputation/nanMasking.py:23: FutureWarning: Slicing a positional slice with .loc is not supported, and will raise TypeError in a future version.  Use .loc with labels or .iloc with positions instead.\n",
      "  data.loc[indexLocation+thresh:indexLocation+consecutiveNum, column_name] = np.nan\n"
     ]
    }
   ],
   "source": [
    "import sys\n",
    "import os\n",
    "sys.path.append(\"../\")\n",
    "sys.path.append(\"../..\")\n",
    "\n",
    "from KETIPrePartialDataPreprocessing import makeNaNImputationTest\n",
    "\n",
    "inputType ='file' # or file\n",
    "refine_param = {'removeDuplication':True, 'staticFrequency':True}\n",
    "outlier_param= {'certainOutlierToNaN':True, 'uncertainOutlierToNaN':True, 'data_type':'air'}\n",
    "imputation_param ={\n",
    "\"imputation_method\":[\n",
    "    {\"min\":0,\"max\":2,\"method\":\"linear\"}],\"totalNanLimit\":90}\n",
    "\n",
    "# mean, median X\n",
    "# ffill~polynomial_interpolate=> 각 구간마다 딱 고만큼만 Fill\n",
    "\n",
    "input_data = makeNaNImputationTest.inputControl(inputType)\n",
    "from KETIPrePartialDataPreprocessing import data_preprocessing\n",
    "import numpy as np\n",
    "input_test_data = input_data.replace(4.0, np.nan)\n",
    "output = data_preprocessing.get_preprocessed_data(input_test_data[:25], refine_param, outlier_param, imputation_param)"
   ]
  },
  {
   "cell_type": "code",
   "execution_count": null,
   "metadata": {},
   "outputs": [],
   "source": []
  }
 ],
 "metadata": {
  "interpreter": {
   "hash": "1796aacadfdf1b8ce3fabca5224c2ed4902f3cf33c376ce9a04415899520095e"
  },
  "kernelspec": {
   "display_name": "Python 3",
   "language": "python",
   "name": "python3"
  },
  "language_info": {
   "codemirror_mode": {
    "name": "ipython",
    "version": 3
   },
   "file_extension": ".py",
   "mimetype": "text/x-python",
   "name": "python",
   "nbconvert_exporter": "python",
   "pygments_lexer": "ipython3",
   "version": "3.6.8"
  },
  "toc": {
   "base_numbering": 1,
   "nav_menu": {},
   "number_sections": true,
   "sideBar": true,
   "skip_h1_title": false,
   "title_cell": "Table of Contents",
   "title_sidebar": "Contents",
   "toc_cell": false,
   "toc_position": {},
   "toc_section_display": true,
   "toc_window_display": false
  },
  "varInspector": {
   "cols": {
    "lenName": 16,
    "lenType": 16,
    "lenVar": 40
   },
   "kernels_config": {
    "python": {
     "delete_cmd_postfix": "",
     "delete_cmd_prefix": "del ",
     "library": "var_list.py",
     "varRefreshCmd": "print(var_dic_list())"
    },
    "r": {
     "delete_cmd_postfix": ") ",
     "delete_cmd_prefix": "rm(",
     "library": "var_list.r",
     "varRefreshCmd": "cat(var_dic_list()) "
    }
   },
   "types_to_exclude": [
    "module",
    "function",
    "builtin_function_or_method",
    "instance",
    "_Feature"
   ],
   "window_display": false
  }
 },
 "nbformat": 4,
 "nbformat_minor": 4
}
