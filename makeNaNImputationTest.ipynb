{
 "cells": [
  {
   "cell_type": "code",
   "execution_count": 1,
   "metadata": {
    "scrolled": false
   },
   "outputs": [
    {
     "name": "stdout",
     "output_type": "stream",
     "text": [
      "=============\n",
      "original temp    13\n",
      "co2      0\n",
      "pm10     0\n",
      "dtype: int64\n",
      "                     temp  co2    pm10\n",
      "timedate                              \n",
      "2021-01-28 12:51:00   3.0  5.0 -9999.0\n",
      "2021-01-28 12:52:00   3.0  5.0    64.0\n",
      "2021-01-28 12:53:00   NaN  6.0    56.0\n",
      "2021-01-28 12:54:00   NaN  7.0    59.0\n",
      "2021-01-28 12:55:00   NaN  7.0    59.0\n",
      "2021-01-28 12:56:00   3.0  6.0    58.0\n",
      "2021-01-28 12:57:00   NaN  7.0    57.0\n",
      "2021-01-28 12:58:00   NaN  7.0    58.0\n",
      "2021-01-28 12:59:00   NaN  6.0    57.0\n",
      "2021-01-28 13:00:00   NaN  7.0    56.0\n",
      "2021-01-28 13:01:00   NaN  6.0    58.0\n",
      "2021-01-28 13:02:00   NaN  7.0    57.0\n",
      "2021-01-28 13:03:00   NaN  6.0    56.0\n",
      "2021-01-28 13:04:00   NaN  6.0    57.0\n",
      "2021-01-28 13:05:00   3.0  6.0    59.0\n",
      "2021-01-28 13:06:00   3.0  6.0    61.0\n",
      "2021-01-28 13:07:00   3.0  6.0    59.0\n",
      "2021-01-28 13:08:00   3.0  6.0    61.0\n",
      "2021-01-28 13:09:00   3.0  5.0    60.0\n",
      "2021-01-28 13:10:00   3.0  6.0    60.0\n",
      "RemoveDuplicated Data\n",
      "                     temp  co2    pm10\n",
      "timedate                              \n",
      "2021-01-28 12:51:00   3.0  5.0 -9999.0\n",
      "2021-01-28 12:52:00   3.0  5.0    64.0\n",
      "2021-01-28 12:53:00   NaN  6.0    56.0\n",
      "2021-01-28 12:54:00   NaN  7.0    59.0\n",
      "2021-01-28 12:56:00   3.0  6.0    58.0\n",
      "2021-01-28 12:57:00   NaN  7.0    57.0\n",
      "2021-01-28 12:58:00   NaN  7.0    58.0\n",
      "2021-01-28 12:59:00   NaN  6.0    57.0\n",
      "2021-01-28 13:00:00   NaN  7.0    56.0\n",
      "2021-01-28 13:01:00   NaN  6.0    58.0\n",
      "=============\n",
      "Make staticFrequency Data\n",
      "                     temp  co2    pm10\n",
      "timedate                              \n",
      "2021-01-28 12:51:00   3.0  5.0 -9999.0\n",
      "2021-01-28 12:52:00   3.0  5.0    64.0\n",
      "2021-01-28 12:53:00   NaN  6.0    56.0\n",
      "2021-01-28 12:54:00   NaN  7.0    59.0\n",
      "2021-01-28 12:55:00   NaN  NaN     NaN\n",
      "2021-01-28 12:56:00   3.0  6.0    58.0\n",
      "2021-01-28 12:57:00   NaN  7.0    57.0\n",
      "2021-01-28 12:58:00   NaN  7.0    58.0\n",
      "2021-01-28 12:59:00   NaN  6.0    57.0\n",
      "2021-01-28 13:00:00   NaN  7.0    56.0\n",
      "=============\n",
      "=============\n",
      "after refine temp    14\n",
      "co2      7\n",
      "pm10     7\n",
      "dtype: int64\n",
      "                     temp  co2    pm10\n",
      "timedate                              \n",
      "2021-01-28 12:51:00   3.0  5.0 -9999.0\n",
      "2021-01-28 12:52:00   3.0  5.0    64.0\n",
      "2021-01-28 12:53:00   NaN  6.0    56.0\n",
      "2021-01-28 12:54:00   NaN  7.0    59.0\n",
      "2021-01-28 12:55:00   NaN  NaN     NaN\n",
      "2021-01-28 12:56:00   3.0  6.0    58.0\n",
      "2021-01-28 12:57:00   NaN  7.0    57.0\n",
      "2021-01-28 12:58:00   NaN  7.0    58.0\n",
      "2021-01-28 12:59:00   NaN  6.0    57.0\n",
      "2021-01-28 13:00:00   NaN  7.0    56.0\n",
      "2021-01-28 13:01:00   NaN  6.0    58.0\n",
      "2021-01-28 13:02:00   NaN  NaN     NaN\n",
      "2021-01-28 13:03:00   NaN  NaN     NaN\n",
      "2021-01-28 13:04:00   NaN  NaN     NaN\n",
      "2021-01-28 13:05:00   3.0  6.0    59.0\n",
      "2021-01-28 13:06:00   3.0  6.0    61.0\n",
      "2021-01-28 13:07:00   NaN  NaN     NaN\n",
      "2021-01-28 13:08:00   NaN  NaN     NaN\n",
      "2021-01-28 13:09:00   3.0  5.0    60.0\n",
      "2021-01-28 13:10:00   3.0  6.0    60.0\n",
      "=============\n",
      "after outlierDetection temp    14\n",
      "co2      7\n",
      "pm10     8\n",
      "dtype: int64\n",
      "                     temp  co2  pm10\n",
      "timedate                            \n",
      "2021-01-28 12:51:00   3.0  5.0   NaN\n",
      "2021-01-28 12:52:00   3.0  5.0  64.0\n",
      "2021-01-28 12:53:00   NaN  6.0  56.0\n",
      "2021-01-28 12:54:00   NaN  7.0  59.0\n",
      "2021-01-28 12:55:00   NaN  NaN   NaN\n",
      "2021-01-28 12:56:00   3.0  6.0  58.0\n",
      "2021-01-28 12:57:00   NaN  7.0  57.0\n",
      "2021-01-28 12:58:00   NaN  7.0  58.0\n",
      "2021-01-28 12:59:00   NaN  6.0  57.0\n",
      "2021-01-28 13:00:00   NaN  7.0  56.0\n",
      "2021-01-28 13:01:00   NaN  6.0  58.0\n",
      "2021-01-28 13:02:00   NaN  NaN   NaN\n",
      "2021-01-28 13:03:00   NaN  NaN   NaN\n",
      "2021-01-28 13:04:00   NaN  NaN   NaN\n",
      "2021-01-28 13:05:00   3.0  6.0  59.0\n",
      "2021-01-28 13:06:00   3.0  6.0  61.0\n",
      "2021-01-28 13:07:00   NaN  NaN   NaN\n",
      "2021-01-28 13:08:00   NaN  NaN   NaN\n",
      "2021-01-28 13:09:00   3.0  5.0  60.0\n",
      "2021-01-28 13:10:00   3.0  6.0  60.0\n",
      "Ratio 60.86956521739131\n",
      "Ratio 30.434782608695656\n",
      "Ratio 34.78260869565217\n",
      "=============\n",
      "after imputation temp    5\n",
      "co2     0\n",
      "pm10    1\n",
      "dtype: int64\n",
      "                     temp       co2       pm10\n",
      "timedate                                      \n",
      "2021-01-28 12:51:00   3.0  5.000000        NaN\n",
      "2021-01-28 12:52:00   3.0  5.000000  64.000000\n",
      "2021-01-28 12:53:00   3.0  6.000000  56.000000\n",
      "2021-01-28 12:54:00   3.0  7.000000  59.000000\n",
      "2021-01-28 12:55:00   3.0  6.471399  59.599720\n",
      "2021-01-28 12:56:00   3.0  6.000000  58.000000\n",
      "2021-01-28 12:57:00   3.0  7.000000  57.000000\n",
      "2021-01-28 12:58:00   3.0  7.000000  58.000000\n",
      "2021-01-28 12:59:00   3.0  6.000000  57.000000\n",
      "2021-01-28 13:00:00   NaN  7.000000  56.000000\n",
      "2021-01-28 13:01:00   NaN  6.000000  58.000000\n",
      "2021-01-28 13:02:00   NaN  5.283668  59.121972\n",
      "2021-01-28 13:03:00   NaN  5.375362  58.626006\n",
      "2021-01-28 13:04:00   NaN  5.779375  58.067037\n",
      "2021-01-28 13:05:00   3.0  6.000000  59.000000\n",
      "2021-01-28 13:06:00   3.0  6.000000  61.000000\n",
      "2021-01-28 13:07:00   3.0  5.555956  61.517664\n",
      "2021-01-28 13:08:00   3.0  4.827962  60.480175\n",
      "2021-01-28 13:09:00   3.0  5.000000  60.000000\n",
      "2021-01-28 13:10:00   3.0  6.000000  60.000000\n"
     ]
    }
   ],
   "source": [
    "import sys\n",
    "import os\n",
    "sys.path.append(\"../\")\n",
    "sys.path.append(\"../..\")\n",
    "\n",
    "from KETIPrePartialDataPreprocessing import makeNaNImputationTest\n",
    "\n",
    "inputType ='file' # or file\n",
    "refine_param = {'removeDuplication':True, 'staticFrequency':True}\n",
    "outlier_param= {'certainOutlierToNaN':True, 'uncertainOutlierToNaN':True, 'data_type':'air'}\n",
    "\"\"\"\n",
    "imputation_param ={\n",
    "\"imputation_method\":[\n",
    "    {\"min\":0,\"max\":1,\"method\":\"mean\"},\n",
    "    {\"min\":2,\"max\":4,\"method\":\"linear\"},\n",
    "    {\"min\":5,\"max\":10,\"method\":\"brits\"}],\n",
    "\"totalNanLimit\":0.3}\n",
    "\"\"\"\n",
    "imputation_param ={\n",
    "\"imputation_method\":[\n",
    "    {\"min\":0,\"max\":3,\"method\":\"polynomial\"}],\"totalNanLimit\":100}\n",
    "\n",
    "# mean X\n",
    "# median X\n",
    "# ffill~polynomial_interpolate=> 각 구간마다 딱 고만큼만 Fill\n",
    "\n",
    "input_data = makeNaNImputationTest.inputControl(inputType)\n",
    "from KETIPrePartialDataPreprocessing import data_preprocessing\n",
    "import numpy as np\n",
    "input_test_data = input_data.replace(4.0, np.nan)\n",
    "output = data_preprocessing.get_preprocessed_data(input_test_data[:25], refine_param, outlier_param, imputation_param)"
   ]
  },
  {
   "cell_type": "code",
   "execution_count": 2,
   "metadata": {},
   "outputs": [
    {
     "data": {
      "text/html": [
       "<div>\n",
       "<style scoped>\n",
       "    .dataframe tbody tr th:only-of-type {\n",
       "        vertical-align: middle;\n",
       "    }\n",
       "\n",
       "    .dataframe tbody tr th {\n",
       "        vertical-align: top;\n",
       "    }\n",
       "\n",
       "    .dataframe thead th {\n",
       "        text-align: right;\n",
       "    }\n",
       "</style>\n",
       "<table border=\"1\" class=\"dataframe\">\n",
       "  <thead>\n",
       "    <tr style=\"text-align: right;\">\n",
       "      <th></th>\n",
       "      <th>temp</th>\n",
       "      <th>co2</th>\n",
       "      <th>pm10</th>\n",
       "    </tr>\n",
       "    <tr>\n",
       "      <th>timedate</th>\n",
       "      <th></th>\n",
       "      <th></th>\n",
       "      <th></th>\n",
       "    </tr>\n",
       "  </thead>\n",
       "  <tbody>\n",
       "    <tr>\n",
       "      <th>2021-01-28 12:51:00</th>\n",
       "      <td>3.0</td>\n",
       "      <td>5.0</td>\n",
       "      <td>-9999.0</td>\n",
       "    </tr>\n",
       "    <tr>\n",
       "      <th>2021-01-28 12:52:00</th>\n",
       "      <td>3.0</td>\n",
       "      <td>5.0</td>\n",
       "      <td>64.0</td>\n",
       "    </tr>\n",
       "    <tr>\n",
       "      <th>2021-01-28 12:53:00</th>\n",
       "      <td>NaN</td>\n",
       "      <td>6.0</td>\n",
       "      <td>56.0</td>\n",
       "    </tr>\n",
       "    <tr>\n",
       "      <th>2021-01-28 12:54:00</th>\n",
       "      <td>NaN</td>\n",
       "      <td>7.0</td>\n",
       "      <td>59.0</td>\n",
       "    </tr>\n",
       "    <tr>\n",
       "      <th>2021-01-28 12:55:00</th>\n",
       "      <td>NaN</td>\n",
       "      <td>7.0</td>\n",
       "      <td>59.0</td>\n",
       "    </tr>\n",
       "    <tr>\n",
       "      <th>2021-01-28 12:56:00</th>\n",
       "      <td>3.0</td>\n",
       "      <td>6.0</td>\n",
       "      <td>58.0</td>\n",
       "    </tr>\n",
       "    <tr>\n",
       "      <th>2021-01-28 12:57:00</th>\n",
       "      <td>NaN</td>\n",
       "      <td>7.0</td>\n",
       "      <td>57.0</td>\n",
       "    </tr>\n",
       "    <tr>\n",
       "      <th>2021-01-28 12:58:00</th>\n",
       "      <td>NaN</td>\n",
       "      <td>7.0</td>\n",
       "      <td>58.0</td>\n",
       "    </tr>\n",
       "    <tr>\n",
       "      <th>2021-01-28 12:59:00</th>\n",
       "      <td>NaN</td>\n",
       "      <td>6.0</td>\n",
       "      <td>57.0</td>\n",
       "    </tr>\n",
       "    <tr>\n",
       "      <th>2021-01-28 13:00:00</th>\n",
       "      <td>NaN</td>\n",
       "      <td>7.0</td>\n",
       "      <td>56.0</td>\n",
       "    </tr>\n",
       "  </tbody>\n",
       "</table>\n",
       "</div>"
      ],
      "text/plain": [
       "                     temp  co2    pm10\n",
       "timedate                              \n",
       "2021-01-28 12:51:00   3.0  5.0 -9999.0\n",
       "2021-01-28 12:52:00   3.0  5.0    64.0\n",
       "2021-01-28 12:53:00   NaN  6.0    56.0\n",
       "2021-01-28 12:54:00   NaN  7.0    59.0\n",
       "2021-01-28 12:55:00   NaN  7.0    59.0\n",
       "2021-01-28 12:56:00   3.0  6.0    58.0\n",
       "2021-01-28 12:57:00   NaN  7.0    57.0\n",
       "2021-01-28 12:58:00   NaN  7.0    58.0\n",
       "2021-01-28 12:59:00   NaN  6.0    57.0\n",
       "2021-01-28 13:00:00   NaN  7.0    56.0"
      ]
     },
     "execution_count": 2,
     "metadata": {},
     "output_type": "execute_result"
    }
   ],
   "source": [
    "output['original'][:10]"
   ]
  },
  {
   "cell_type": "code",
   "execution_count": 3,
   "metadata": {},
   "outputs": [
    {
     "data": {
      "text/plain": [
       "<AxesSubplot:xlabel='timedate'>"
      ]
     },
     "execution_count": 3,
     "metadata": {},
     "output_type": "execute_result"
    },
    {
     "data": {
      "image/png": "[encoded data removed]",
      "text/plain": [
       "<Figure size 432x288 with 1 Axes>"
      ]
     },
     "metadata": {
      "needs_background": "light"
     },
     "output_type": "display_data"
    }
   ],
   "source": [
    "output['refined_data'].plot()"
   ]
  },
  {
   "cell_type": "code",
   "execution_count": 4,
   "metadata": {},
   "outputs": [
    {
     "data": {
      "text/plain": [
       "<AxesSubplot:xlabel='timedate'>"
      ]
     },
     "execution_count": 4,
     "metadata": {},
     "output_type": "execute_result"
    },
    {
     "data": {
      "image/png": "[encoded data removed]",
      "text/plain": [
       "<Figure size 432x288 with 1 Axes>"
      ]
     },
     "metadata": {
      "needs_background": "light"
     },
     "output_type": "display_data"
    }
   ],
   "source": [
    "output['datawithMoreCertainNaN'].plot()"
   ]
  },
  {
   "cell_type": "code",
   "execution_count": 5,
   "metadata": {},
   "outputs": [
    {
     "data": {
      "text/plain": [
       "<AxesSubplot:xlabel='timedate'>"
      ]
     },
     "execution_count": 5,
     "metadata": {},
     "output_type": "execute_result"
    },
    {
     "data": {
      "image/png": "[encoded data removed]",
      "text/plain": [
       "<Figure size 432x288 with 1 Axes>"
      ]
     },
     "metadata": {
      "needs_background": "light"
     },
     "output_type": "display_data"
    }
   ],
   "source": [
    "output['datawithMoreUnCertainNaN'].plot()"
   ]
  },
  {
   "cell_type": "code",
   "execution_count": null,
   "metadata": {},
   "outputs": [],
   "source": []
  },
  {
   "cell_type": "code",
   "execution_count": null,
   "metadata": {},
   "outputs": [],
   "source": []
  }
 ],
 "metadata": {
  "interpreter": {
   "hash": "1796aacadfdf1b8ce3fabca5224c2ed4902f3cf33c376ce9a04415899520095e"
  },
  "kernelspec": {
   "display_name": "Python 3",
   "language": "python",
   "name": "python3"
  },
  "language_info": {
   "codemirror_mode": {
    "name": "ipython",
    "version": 3
   },
   "file_extension": ".py",
   "mimetype": "text/x-python",
   "name": "python",
   "nbconvert_exporter": "python",
   "pygments_lexer": "ipython3",
   "version": "3.6.8"
  },
  "toc": {
   "base_numbering": 1,
   "nav_menu": {},
   "number_sections": true,
   "sideBar": true,
   "skip_h1_title": false,
   "title_cell": "Table of Contents",
   "title_sidebar": "Contents",
   "toc_cell": false,
   "toc_position": {},
   "toc_section_display": true,
   "toc_window_display": false
  },
  "varInspector": {
   "cols": {
    "lenName": 16,
    "lenType": 16,
    "lenVar": 40
   },
   "kernels_config": {
    "python": {
     "delete_cmd_postfix": "",
     "delete_cmd_prefix": "del ",
     "library": "var_list.py",
     "varRefreshCmd": "print(var_dic_list())"
    },
    "r": {
     "delete_cmd_postfix": ") ",
     "delete_cmd_prefix": "rm(",
     "library": "var_list.r",
     "varRefreshCmd": "cat(var_dic_list()) "
    }
   },
   "types_to_exclude": [
    "module",
    "function",
    "builtin_function_or_method",
    "instance",
    "_Feature"
   ],
   "window_display": false
  }
 },
 "nbformat": 4,
 "nbformat_minor": 4
}
