{
 "cells": [
  {
   "cell_type": "code",
   "execution_count": 1,
   "metadata": {
    "scrolled": false
   },
   "outputs": [
    {
     "name": "stdout",
     "output_type": "stream",
     "text": [
      "data Length after removeDuplication: 25\n",
      "data Length after make_static_frequency: 25\n",
      "NaN Ratio temp 52.0\n",
      "NaN Ratio co2 36.0\n",
      "NaN Ratio pm10 4.0\n",
      "                     temp  co2  pm10\n",
      "timedate                            \n",
      "2021-01-28 12:51:00   3.0  6.0  64.0\n",
      "2021-01-28 12:52:00   3.0  6.0  64.0\n",
      "2021-01-28 12:53:00   3.0  6.0  56.0\n",
      "2021-01-28 12:54:00   3.0  6.0  59.0\n",
      "2021-01-28 12:55:00   NaN  6.0  59.0\n",
      "2021-01-28 12:56:00   3.0  6.0  58.0\n",
      "2021-01-28 12:57:00   3.0  6.0  57.0\n",
      "2021-01-28 12:58:00   3.0  6.0  58.0\n",
      "2021-01-28 12:59:00   NaN  6.0  57.0\n",
      "2021-01-28 13:00:00   NaN  6.0  56.0\n",
      "2021-01-28 13:01:00   NaN  6.0  58.0\n",
      "2021-01-28 13:02:00   NaN  6.0  57.0\n",
      "2021-01-28 13:03:00   NaN  6.0  56.0\n",
      "2021-01-28 13:04:00   NaN  6.0  57.0\n",
      "2021-01-28 13:05:00   3.0  6.0  59.0\n",
      "2021-01-28 13:06:00   3.0  6.0  61.0\n",
      "2021-01-28 13:07:00   3.0  6.0  59.0\n",
      "2021-01-28 13:08:00   3.0  6.0  61.0\n",
      "2021-01-28 13:09:00   3.0  6.0  60.0\n",
      "2021-01-28 13:10:00   3.0  6.0  60.0\n",
      "2021-01-28 13:11:00   3.0  6.0  58.0\n",
      "2021-01-28 13:12:00   3.0  6.0  56.0\n",
      "2021-01-28 13:13:00   3.0  6.0  57.0\n",
      "2021-01-28 13:14:00   3.0  6.0  57.0\n",
      "2021-01-28 13:15:00   3.0  6.0  57.0\n"
     ]
    },
    {
     "ename": "AttributeError",
     "evalue": "'DataPreprocessing' object has no attribute 'imputedData'",
     "output_type": "error",
     "traceback": [
      "\u001b[0;31m---------------------------------------------------------------------------\u001b[0m",
      "\u001b[0;31mAttributeError\u001b[0m                            Traceback (most recent call last)",
      "\u001b[0;32m<ipython-input-1-5093b415423a>\u001b[0m in \u001b[0;36m<module>\u001b[0;34m\u001b[0m\n\u001b[1;32m     20\u001b[0m \u001b[0;32mimport\u001b[0m \u001b[0mnumpy\u001b[0m \u001b[0;32mas\u001b[0m \u001b[0mnp\u001b[0m\u001b[0;34m\u001b[0m\u001b[0;34m\u001b[0m\u001b[0m\n\u001b[1;32m     21\u001b[0m \u001b[0minput_test_data\u001b[0m \u001b[0;34m=\u001b[0m \u001b[0minput_data\u001b[0m\u001b[0;34m.\u001b[0m\u001b[0mreplace\u001b[0m\u001b[0;34m(\u001b[0m\u001b[0;36m4.0\u001b[0m\u001b[0;34m,\u001b[0m \u001b[0mnp\u001b[0m\u001b[0;34m.\u001b[0m\u001b[0mnan\u001b[0m\u001b[0;34m)\u001b[0m\u001b[0;34m\u001b[0m\u001b[0;34m\u001b[0m\u001b[0m\n\u001b[0;32m---> 22\u001b[0;31m \u001b[0moutput\u001b[0m \u001b[0;34m=\u001b[0m \u001b[0mdata_preprocessing\u001b[0m\u001b[0;34m.\u001b[0m\u001b[0mByAllMethod\u001b[0m\u001b[0;34m(\u001b[0m\u001b[0minput_test_data\u001b[0m\u001b[0;34m[\u001b[0m\u001b[0;34m:\u001b[0m\u001b[0;36m25\u001b[0m\u001b[0;34m]\u001b[0m\u001b[0;34m,\u001b[0m \u001b[0mrefine_param\u001b[0m\u001b[0;34m,\u001b[0m \u001b[0moutlier_param\u001b[0m\u001b[0;34m,\u001b[0m \u001b[0mimputation_param\u001b[0m\u001b[0;34m)\u001b[0m\u001b[0;34m\u001b[0m\u001b[0;34m\u001b[0m\u001b[0m\n\u001b[0m",
      "\u001b[0;32m~/git/KETIPrePartialDataPreprocessing/data_preprocessing.py\u001b[0m in \u001b[0;36mByAllMethod\u001b[0;34m(input_data, refine_param, outlier_param, imputation_param)\u001b[0m\n\u001b[1;32m     14\u001b[0m     \u001b[0mdatawithMoreCertainNaN\u001b[0m\u001b[0;34m,\u001b[0m \u001b[0mdatawithMoreUnCertainNaN\u001b[0m \u001b[0;34m=\u001b[0m \u001b[0mMDP\u001b[0m\u001b[0;34m.\u001b[0m\u001b[0mget_outlierToNaNData\u001b[0m\u001b[0;34m(\u001b[0m\u001b[0mrefined_data\u001b[0m\u001b[0;34m,\u001b[0m \u001b[0moutlier_param\u001b[0m\u001b[0;34m)\u001b[0m\u001b[0;34m\u001b[0m\u001b[0;34m\u001b[0m\u001b[0m\n\u001b[1;32m     15\u001b[0m     \u001b[0;31m###########\u001b[0m\u001b[0;34m\u001b[0m\u001b[0;34m\u001b[0m\u001b[0;34m\u001b[0m\u001b[0m\n\u001b[0;32m---> 16\u001b[0;31m     \u001b[0mimputed_data\u001b[0m \u001b[0;34m=\u001b[0m \u001b[0mMDP\u001b[0m\u001b[0;34m.\u001b[0m\u001b[0mget_imputedData\u001b[0m\u001b[0;34m(\u001b[0m\u001b[0mdatawithMoreUnCertainNaN\u001b[0m\u001b[0;34m,\u001b[0m \u001b[0mimputation_param\u001b[0m\u001b[0;34m)\u001b[0m\u001b[0;34m\u001b[0m\u001b[0;34m\u001b[0m\u001b[0m\n\u001b[0m\u001b[1;32m     17\u001b[0m     \u001b[0;31m###########\u001b[0m\u001b[0;34m\u001b[0m\u001b[0;34m\u001b[0m\u001b[0;34m\u001b[0m\u001b[0m\n\u001b[1;32m     18\u001b[0m     result ={'original':input_data, 'refined_data':refined_data, 'datawithMoreCertainNaN':datawithMoreCertainNaN,\n",
      "\u001b[0;32m~/git/KETIPrePartialDataPreprocessing/data_preprocessing.py\u001b[0m in \u001b[0;36mget_imputedData\u001b[0;34m(self, data, impuation_param)\u001b[0m\n\u001b[1;32m     50\u001b[0m         \u001b[0;32mfrom\u001b[0m \u001b[0mKETIPrePartialDataPreprocessing\u001b[0m\u001b[0;34m.\u001b[0m\u001b[0mdata_imputation\u001b[0m \u001b[0;32mimport\u001b[0m \u001b[0mImputation\u001b[0m\u001b[0;34m\u001b[0m\u001b[0;34m\u001b[0m\u001b[0m\n\u001b[1;32m     51\u001b[0m         \u001b[0mself\u001b[0m\u001b[0;34m.\u001b[0m\u001b[0mget_imputedData\u001b[0m \u001b[0;34m=\u001b[0m \u001b[0mImputation\u001b[0m\u001b[0;34m.\u001b[0m\u001b[0mMultipleImputation\u001b[0m\u001b[0;34m(\u001b[0m\u001b[0;34m)\u001b[0m\u001b[0;34m.\u001b[0m\u001b[0mgetDataWithMultipleImputation\u001b[0m\u001b[0;34m(\u001b[0m\u001b[0mdata\u001b[0m\u001b[0;34m,\u001b[0m \u001b[0mimpuation_param\u001b[0m\u001b[0;34m)\u001b[0m\u001b[0;34m\u001b[0m\u001b[0;34m\u001b[0m\u001b[0m\n\u001b[0;32m---> 52\u001b[0;31m         \u001b[0mprint\u001b[0m\u001b[0;34m(\u001b[0m\u001b[0mself\u001b[0m\u001b[0;34m.\u001b[0m\u001b[0mimputedData\u001b[0m\u001b[0;34m)\u001b[0m\u001b[0;34m\u001b[0m\u001b[0;34m\u001b[0m\u001b[0m\n\u001b[0m\u001b[1;32m     53\u001b[0m         \u001b[0;32mreturn\u001b[0m \u001b[0mself\u001b[0m\u001b[0;34m.\u001b[0m\u001b[0mget_imputedData\u001b[0m\u001b[0;34m\u001b[0m\u001b[0;34m\u001b[0m\u001b[0m\n",
      "\u001b[0;31mAttributeError\u001b[0m: 'DataPreprocessing' object has no attribute 'imputedData'"
     ]
    }
   ],
   "source": [
    "import sys\n",
    "import os\n",
    "sys.path.append(\"../\")\n",
    "sys.path.append(\"../..\")\n",
    "\n",
    "from KETIPrePartialDataPreprocessing import main\n",
    "\n",
    "inputType ='file' # or file\n",
    "refine_param = {'removeDuplication':True, 'staticFrequency':True}\n",
    "outlier_param= {'certainOutlierToNaN':True, 'uncertainOutlierToNaN':True, 'data_type':'air'}\n",
    "imputation_param ={\n",
    "\"imputation_method\":[\n",
    "    {\"min\":0,\"max\":2,\"method\":\"linear\"}],\"totalNanLimit\":90}\n",
    "\n",
    "# mean, median X\n",
    "# ffill~polynomial_interpolate=> 각 구간마다 딱 고만큼만 Fill\n",
    "\n",
    "input_data = main.inputControl(inputType)\n",
    "from KETIPrePartialDataPreprocessing import data_preprocessing\n",
    "import numpy as np\n",
    "input_test_data = input_data.replace(4.0, np.nan)\n",
    "output = data_preprocessing.ByAllMethod(input_test_data[:25], refine_param, outlier_param, imputation_param)"
   ]
  },
  {
   "cell_type": "code",
   "execution_count": null,
   "metadata": {},
   "outputs": [],
   "source": [
    "output"
   ]
  },
  {
   "cell_type": "code",
   "execution_count": null,
   "metadata": {},
   "outputs": [],
   "source": []
  }
 ],
 "metadata": {
  "interpreter": {
   "hash": "1796aacadfdf1b8ce3fabca5224c2ed4902f3cf33c376ce9a04415899520095e"
  },
  "kernelspec": {
   "display_name": "Python 3",
   "language": "python",
   "name": "python3"
  },
  "language_info": {
   "codemirror_mode": {
    "name": "ipython",
    "version": 3
   },
   "file_extension": ".py",
   "mimetype": "text/x-python",
   "name": "python",
   "nbconvert_exporter": "python",
   "pygments_lexer": "ipython3",
   "version": "3.6.8"
  },
  "toc": {
   "base_numbering": 1,
   "nav_menu": {},
   "number_sections": true,
   "sideBar": true,
   "skip_h1_title": false,
   "title_cell": "Table of Contents",
   "title_sidebar": "Contents",
   "toc_cell": false,
   "toc_position": {},
   "toc_section_display": true,
   "toc_window_display": false
  },
  "varInspector": {
   "cols": {
    "lenName": 16,
    "lenType": 16,
    "lenVar": 40
   },
   "kernels_config": {
    "python": {
     "delete_cmd_postfix": "",
     "delete_cmd_prefix": "del ",
     "library": "var_list.py",
     "varRefreshCmd": "print(var_dic_list())"
    },
    "r": {
     "delete_cmd_postfix": ") ",
     "delete_cmd_prefix": "rm(",
     "library": "var_list.r",
     "varRefreshCmd": "cat(var_dic_list()) "
    }
   },
   "types_to_exclude": [
    "module",
    "function",
    "builtin_function_or_method",
    "instance",
    "_Feature"
   ],
   "window_display": false
  }
 },
 "nbformat": 4,
 "nbformat_minor": 4
}
