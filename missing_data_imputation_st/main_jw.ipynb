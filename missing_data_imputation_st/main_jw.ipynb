{
 "cells": [
  {
   "cell_type": "code",
   "execution_count": 1,
   "metadata": {},
   "outputs": [],
   "source": [
    "import numpy as np\n",
    "import pandas as pd\n",
    "import sys\n",
    "import os\n",
    "import matplotlib.pyplot as plt\n",
    "sys.path.append(\"../\")\n",
    "sys.path.append(\"../..\")"
   ]
  },
  {
   "cell_type": "code",
   "execution_count": 2,
   "metadata": {},
   "outputs": [],
   "source": [
    "def inputControl(inputType):\n",
    "    if inputType==\"file\":\n",
    "        BASE_DIR = os.getcwd()\n",
    "        input_file = os.path.join(BASE_DIR, 'data_miss_original.csv')\n",
    "        input_data = getData().getFileInput(input_file, 'timedate')\n",
    "    elif inputType ==\"influx\":\n",
    "        input_data = \"Emtpy\"\n",
    "\n",
    "    return input_data"
   ]
  },
  {
   "cell_type": "code",
   "execution_count": 3,
   "metadata": {},
   "outputs": [],
   "source": [
    "imputation_param ={\n",
    "\"imputation_method\":[\n",
    "    {\n",
    "        \"min\":0,\n",
    "        \"max\":1,\n",
    "        \"method\":\"mean\"\n",
    "    },\n",
    "    {\n",
    "        \"min\":2,\n",
    "        \"max\":4,\n",
    "        \"method\":\"linear\"\n",
    "    },\n",
    "    {\n",
    "        \"min\":5,\n",
    "        \"max\":10,\n",
    "        \"method\":\"brits\"\n",
    "    }\n",
    "],\n",
    "    \"totalNanLimit\":0.3\n",
    "}\n",
    "\n",
    "\n",
    "\n"
   ]
  },
  {
   "cell_type": "code",
   "execution_count": 4,
   "metadata": {},
   "outputs": [
    {
     "name": "stdout",
     "output_type": "stream",
     "text": [
      "temp\n",
      "-40 80\n",
      "co2\n",
      "0 99999\n",
      "pm10\n",
      "0 9999\n",
      "temp    0\n",
      "co2     0\n",
      "pm10    0\n",
      "dtype: int64\n",
      "temp    375\n",
      "co2       0\n",
      "pm10    317\n",
      "dtype: int64\n"
     ]
    }
   ],
   "source": [
    "outlier_remove_param={'flag':True, 'data_type':'air', 'uncertain_outlier_remove':True}\n",
    "\n",
    "from KETIPrePartialDataPreprocessing.data_manager.multipleDataSourceIngestion import getData\n",
    "\n",
    "inputType ='file'\n",
    "input_data = inputControl(inputType)\n",
    "from data_cleaning import DataCleaning\n",
    "MDP = DataCleaning()\n",
    "MDP.setData(input_data)\n",
    "\n",
    "output_data = MDP.dataCleaning(imputation_param, outlier_remove_param)\n",
    "print(input_data.isna().sum())\n",
    "print(output_data.isna().sum())\n"
   ]
  },
  {
   "cell_type": "code",
   "execution_count": 5,
   "metadata": {},
   "outputs": [
    {
     "data": {
      "text/plain": [
       "[<matplotlib.lines.Line2D at 0x11ab5b0f0>]"
      ]
     },
     "execution_count": 5,
     "metadata": {},
     "output_type": "execute_result"
    },
    {
     "data": {
      "image/png": "[encoded data removed]",
      "text/plain": [
       "<Figure size 432x288 with 1 Axes>"
      ]
     },
     "metadata": {
      "needs_background": "light"
     },
     "output_type": "display_data"
    }
   ],
   "source": [
    "plt.plot(output_data['pm10'])"
   ]
  },
  {
   "cell_type": "code",
   "execution_count": 6,
   "metadata": {},
   "outputs": [
    {
     "data": {
      "text/plain": [
       "0"
      ]
     },
     "execution_count": 6,
     "metadata": {},
     "output_type": "execute_result"
    }
   ],
   "source": [
    "input_data['pm10'].isna().sum()"
   ]
  },
  {
   "cell_type": "code",
   "execution_count": 7,
   "metadata": {},
   "outputs": [
    {
     "data": {
      "text/plain": [
       "317"
      ]
     },
     "execution_count": 7,
     "metadata": {},
     "output_type": "execute_result"
    }
   ],
   "source": [
    "output_data['pm10'].isna().sum()"
   ]
  },
  {
   "cell_type": "code",
   "execution_count": null,
   "metadata": {},
   "outputs": [],
   "source": []
  }
 ],
 "metadata": {
  "kernelspec": {
   "display_name": "Python 3",
   "language": "python",
   "name": "python3"
  },
  "language_info": {
   "codemirror_mode": {
    "name": "ipython",
    "version": 3
   },
   "file_extension": ".py",
   "mimetype": "text/x-python",
   "name": "python",
   "nbconvert_exporter": "python",
   "pygments_lexer": "ipython3",
   "version": "3.6.8"
  },
  "toc": {
   "base_numbering": 1,
   "nav_menu": {},
   "number_sections": true,
   "sideBar": true,
   "skip_h1_title": false,
   "title_cell": "Table of Contents",
   "title_sidebar": "Contents",
   "toc_cell": false,
   "toc_position": {},
   "toc_section_display": true,
   "toc_window_display": false
  },
  "varInspector": {
   "cols": {
    "lenName": 16,
    "lenType": 16,
    "lenVar": 40
   },
   "kernels_config": {
    "python": {
     "delete_cmd_postfix": "",
     "delete_cmd_prefix": "del ",
     "library": "var_list.py",
     "varRefreshCmd": "print(var_dic_list())"
    },
    "r": {
     "delete_cmd_postfix": ") ",
     "delete_cmd_prefix": "rm(",
     "library": "var_list.r",
     "varRefreshCmd": "cat(var_dic_list()) "
    }
   },
   "types_to_exclude": [
    "module",
    "function",
    "builtin_function_or_method",
    "instance",
    "_Feature"
   ],
   "window_display": false
  }
 },
 "nbformat": 4,
 "nbformat_minor": 4
}
